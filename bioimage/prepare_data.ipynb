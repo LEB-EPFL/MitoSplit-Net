{
 "cells": [
  {
   "cell_type": "markdown",
   "metadata": {},
   "source": [
    "# Data preparation for Bioimage.io upload"
   ]
  },
  {
   "cell_type": "markdown",
   "metadata": {},
   "source": [
    "Load data from the NAS"
   ]
  },
  {
   "cell_type": "code",
   "execution_count": 4,
   "metadata": {},
   "outputs": [
    {
     "name": "stdout",
     "output_type": "stream",
     "text": [
      "\n",
      "Loading //lebnas1.epfl.ch/microsc125/Watchdog/MitoSplit-Net/Data/Mito.h5\n",
      "Converting to array\n",
      "\n",
      "Loading //lebnas1.epfl.ch/microsc125/Watchdog/MitoSplit-Net/Data/Drp1.h5\n",
      "Converting to array\n"
     ]
    }
   ],
   "source": [
    "from mitosplit_net.util import load_h5\n",
    "\n",
    "data_path = '//lebnas1.epfl.ch/microsc125/Watchdog/MitoSplit-Net/Data/'\n",
    "\n",
    "mito_data = load_h5(data_path, 'Mito')\n",
    "drp1_data = load_h5(data_path, 'Drp1')"
   ]
  },
  {
   "cell_type": "markdown",
   "metadata": {},
   "source": [
    "Extract one frame and save as sample input"
   ]
  },
  {
   "cell_type": "code",
   "execution_count": 6,
   "metadata": {},
   "outputs": [
    {
     "name": "stdout",
     "output_type": "stream",
     "text": [
      "(37000, 128, 128)\n",
      "(2, 128, 128)\n"
     ]
    }
   ],
   "source": [
    "import numpy as np\n",
    "from skimage.io import imsave\n",
    "\n",
    "print(mito_data.shape)\n",
    "frame_number = 5932\n",
    "\n",
    "sample_input = np.array([mito_data[frame_number], drp1_data[frame_number]])\n",
    "print(sample_input.shape)\n",
    "\n",
    "imsave(\"sample_input.tif\", sample_input)"
   ]
  }
 ],
 "metadata": {
  "interpreter": {
   "hash": "fe0e34d4f33de75aa99c31dd7331c89790f7fa71c91e0558bd996e2af12f1615"
  },
  "kernelspec": {
   "display_name": "Python 3.8.6 64-bit ('smart_micro': venv)",
   "language": "python",
   "name": "python3"
  },
  "language_info": {
   "codemirror_mode": {
    "name": "ipython",
    "version": 3
   },
   "file_extension": ".py",
   "mimetype": "text/x-python",
   "name": "python",
   "nbconvert_exporter": "python",
   "pygments_lexer": "ipython3",
   "version": "3.8.6"
  },
  "orig_nbformat": 4
 },
 "nbformat": 4,
 "nbformat_minor": 2
}
