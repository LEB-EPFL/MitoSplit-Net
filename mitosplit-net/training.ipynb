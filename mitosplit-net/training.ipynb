{
 "cells": [
  {
   "cell_type": "markdown",
   "metadata": {},
   "source": [
    "# Create and train MitoSplit-Net model"
   ]
  },
  {
   "cell_type": "markdown",
   "metadata": {
    "id": "0mIcpL6pLPvL"
   },
   "source": [
    "## Import required Python libraries\n",
    "\n"
   ]
  },
  {
   "cell_type": "code",
   "execution_count": 1,
   "metadata": {
    "id": "jaV4mHBXVj2x"
   },
   "outputs": [],
   "source": [
    "import util\n",
    "import plotting\n",
    "import training\n",
    "\n",
    "import numpy as np\n",
    "import matplotlib.pyplot as plt\n",
    "plt.rc('xtick', labelsize=18)\n",
    "plt.rc('ytick', labelsize=18)\n",
    "plt.rc('axes', labelsize=20)\n",
    "plt.rc('legend', fontsize=18)\n",
    "from tqdm import tqdm\n",
    "\n",
    "import tensorflow as tf"
   ]
  },
  {
   "cell_type": "code",
   "execution_count": 2,
   "metadata": {},
   "outputs": [
    {
     "name": "stdout",
     "output_type": "stream",
     "text": [
      "PhysicalDevice(name='/physical_device:GPU:0', device_type='GPU')\n"
     ]
    }
   ],
   "source": [
    "#Define GPU device where the code will run on\n",
    "gpu = tf.config.list_physical_devices('GPU')[0]\n",
    "print(gpu)\n",
    "tf.config.experimental.set_memory_growth(gpu, True)\n",
    "gpu = tf.device('GPU:0/')"
   ]
  },
  {
   "cell_type": "markdown",
   "metadata": {
    "id": "BVMwTVUOV1KY"
   },
   "source": [
    "## Import and reshape data "
   ]
  },
  {
   "cell_type": "code",
   "execution_count": 3,
   "metadata": {
    "colab": {
     "base_uri": "https://localhost:8080/",
     "height": 740
    },
    "id": "lxMLelekV8xh",
    "outputId": "d24c25ea-08f4-4a95-b467-f3be7088cb50"
   },
   "outputs": [
    {
     "name": "stdout",
     "output_type": "stream",
     "text": [
      "\n",
      "Loading H:/Santi/Data/Mito.h5\n",
      "Converting to array\n",
      "Inputs: (37000, 128, 128)\n",
      "\n",
      "Loading H:/Santi/Data/Proc.h5\n",
      "Converting to array\n",
      "Outputs: (37000, 128, 128)\n"
     ]
    }
   ],
   "source": [
    "base_dir = 'H:/Santi/'\n",
    "data_path = base_dir+'Data/' \n",
    "\n",
    "#Inputs\n",
    "input_data = util.load_h5(data_path, 'Mito')\n",
    "print('Inputs'+':', input_data.shape)\n",
    "\n",
    "#Outputs\n",
    "output_data = util.load_h5(data_path, 'Proc')\n",
    "print('Outputs:', output_data.shape)"
   ]
  },
  {
   "cell_type": "markdown",
   "metadata": {},
   "source": [
    "## Create model"
   ]
  },
  {
   "cell_type": "code",
   "execution_count": 5,
   "metadata": {},
   "outputs": [
    {
     "ename": "NameError",
     "evalue": "name 'training' is not defined",
     "output_type": "error",
     "traceback": [
      "\u001b[1;31m---------------------------------------------------------------------------\u001b[0m",
      "\u001b[1;31mNameError\u001b[0m                                 Traceback (most recent call last)",
      "\u001b[1;32m<ipython-input-5-31a8e1eb90ad>\u001b[0m in \u001b[0;36m<module>\u001b[1;34m\u001b[0m\n\u001b[1;32m----> 1\u001b[1;33m \u001b[0mmodel\u001b[0m \u001b[1;33m=\u001b[0m \u001b[0mtraining\u001b[0m\u001b[1;33m.\u001b[0m\u001b[0mcreate_model\u001b[0m\u001b[1;33m(\u001b[0m\u001b[1;33m)\u001b[0m\u001b[1;33m\u001b[0m\u001b[1;33m\u001b[0m\u001b[0m\n\u001b[0m",
      "\u001b[1;31mNameError\u001b[0m: name 'training' is not defined"
     ]
    }
   ],
   "source": [
    "model = training.create_model()"
   ]
  },
  {
   "cell_type": "markdown",
   "metadata": {
    "id": "Rkaaw6D6LjLU"
   },
   "source": [
    "## Split dataset and train"
   ]
  },
  {
   "cell_type": "code",
   "execution_count": 6,
   "metadata": {},
   "outputs": [
    {
     "name": "stdout",
     "output_type": "stream",
     "text": [
      "Epoch 1/20\n",
      "1480/1480 [==============================] - 29s 20ms/step - loss: -0.2004 - binary_accuracy: 0.9691 - val_loss: -0.4048 - val_binary_accuracy: 0.9820\n",
      "Epoch 2/20\n",
      "1480/1480 [==============================] - 29s 20ms/step - loss: -0.4705 - binary_accuracy: 0.9812 - val_loss: -0.5080 - val_binary_accuracy: 0.9853\n",
      "Epoch 3/20\n",
      "1480/1480 [==============================] - 29s 20ms/step - loss: -0.5524 - binary_accuracy: 0.9845 - val_loss: -0.5706 - val_binary_accuracy: 0.9891\n",
      "Epoch 4/20\n",
      "1480/1480 [==============================] - 29s 20ms/step - loss: -0.5999 - binary_accuracy: 0.9866 - val_loss: -0.6010 - val_binary_accuracy: 0.9831\n",
      "Epoch 5/20\n",
      "1480/1480 [==============================] - 29s 20ms/step - loss: -0.6294 - binary_accuracy: 0.9878 - val_loss: -0.6166 - val_binary_accuracy: 0.9872\n",
      "Epoch 6/20\n",
      "1480/1480 [==============================] - 29s 20ms/step - loss: -0.6544 - binary_accuracy: 0.9889 - val_loss: -0.6090 - val_binary_accuracy: 0.9822\n",
      "Epoch 7/20\n",
      "1480/1480 [==============================] - 29s 20ms/step - loss: -0.6682 - binary_accuracy: 0.9896 - val_loss: -0.6348 - val_binary_accuracy: 0.9895\n",
      "Epoch 8/20\n",
      "1480/1480 [==============================] - 29s 20ms/step - loss: -0.6775 - binary_accuracy: 0.9900 - val_loss: -0.6663 - val_binary_accuracy: 0.9892\n",
      "Epoch 9/20\n",
      "1480/1480 [==============================] - 29s 20ms/step - loss: -0.6913 - binary_accuracy: 0.9907 - val_loss: -0.6690 - val_binary_accuracy: 0.9901\n",
      "Epoch 10/20\n",
      "1480/1480 [==============================] - 29s 20ms/step - loss: -0.6992 - binary_accuracy: 0.9910 - val_loss: -0.6899 - val_binary_accuracy: 0.9910\n",
      "Epoch 11/20\n",
      "1480/1480 [==============================] - 29s 20ms/step - loss: -0.7032 - binary_accuracy: 0.9912 - val_loss: -0.6833 - val_binary_accuracy: 0.9930\n",
      "Epoch 12/20\n",
      "1480/1480 [==============================] - 29s 20ms/step - loss: -0.7105 - binary_accuracy: 0.9915 - val_loss: -0.6902 - val_binary_accuracy: 0.9908\n",
      "Epoch 13/20\n",
      "1480/1480 [==============================] - 29s 20ms/step - loss: -0.7157 - binary_accuracy: 0.9917 - val_loss: -0.6934 - val_binary_accuracy: 0.9929\n",
      "Epoch 14/20\n",
      "1480/1480 [==============================] - 29s 20ms/step - loss: -0.7221 - binary_accuracy: 0.9920 - val_loss: -0.6896 - val_binary_accuracy: 0.9903\n",
      "Epoch 15/20\n",
      "1480/1480 [==============================] - 29s 20ms/step - loss: -0.7252 - binary_accuracy: 0.9920 - val_loss: -0.7107 - val_binary_accuracy: 0.9917\n",
      "Epoch 16/20\n",
      "1480/1480 [==============================] - 29s 20ms/step - loss: -0.7300 - binary_accuracy: 0.9922 - val_loss: -0.7100 - val_binary_accuracy: 0.9919\n",
      "Epoch 17/20\n",
      "1480/1480 [==============================] - 29s 20ms/step - loss: -0.7304 - binary_accuracy: 0.9922 - val_loss: -0.7156 - val_binary_accuracy: 0.9923\n",
      "Epoch 18/20\n",
      "1480/1480 [==============================] - 29s 20ms/step - loss: -0.7386 - binary_accuracy: 0.9925 - val_loss: -0.7040 - val_binary_accuracy: 0.9931\n",
      "Epoch 19/20\n",
      "1480/1480 [==============================] - 29s 20ms/step - loss: -0.7385 - binary_accuracy: 0.9925 - val_loss: -0.7245 - val_binary_accuracy: 0.9930\n",
      "Epoch 20/20\n",
      "1480/1480 [==============================] - 29s 20ms/step - loss: -0.7426 - binary_accuracy: 0.9927 - val_loss: -0.6928 - val_binary_accuracy: 0.9899\n"
     ]
    }
   ],
   "source": [
    "with gpu:\n",
    "  history, frames_test = training.train_model(model, input_data, output_data)\n",
    "  model_path = base_dir + 'Models/f8_c9_b8/'\n",
    "  model.save(model_path+'ref_model.h5')\n",
    "  util.save_pkl(history, model_path, 'history')\n",
    "  util.save_pkl(frames_test, model_path, 'frames_test')"
   ]
  },
  {
   "cell_type": "code",
   "execution_count": 7,
   "metadata": {
    "tags": []
   },
   "outputs": [
    {
     "name": "stdout",
     "output_type": "stream",
     "text": [
      "Saving H:/Santi/Models/ref_model/f8_c9_b16/history\n",
      "Done.\n",
      "Saving H:/Santi/Models/ref_model/f8_c9_b16/frames_test\n",
      "Done.\n"
     ]
    }
   ],
   "source": []
  },
  {
   "cell_type": "code",
   "execution_count": 8,
   "metadata": {},
   "outputs": [
    {
     "data": {
      "image/png": "[encoded data removed]",
      "text/plain": [
       "<Figure size 432x288 with 1 Axes>"
      ]
     },
     "metadata": {
      "needs_background": "light"
     },
     "output_type": "display_data"
    }
   ],
   "source": [
    "metric = 'binary_accuracy'\n",
    "plt.plot(history[metric], label=metric)\n",
    "plt.plot(history['val_'+metric], label='val_'+metric)\n",
    "plt.legend()\n",
    "plt.show()"
   ]
  }
 ],
 "metadata": {
  "accelerator": "GPU",
  "colab": {
   "collapsed_sections": [],
   "name": "20201014_Mito2Drp1",
   "provenance": [],
   "toc_visible": true
  },
  "kernelspec": {
   "display_name": "Python 3",
   "language": "python",
   "name": "python3"
  },
  "language_info": {
   "codemirror_mode": {
    "name": "ipython",
    "version": 3
   },
   "file_extension": ".py",
   "mimetype": "text/x-python",
   "name": "python",
   "nbconvert_exporter": "python",
   "pygments_lexer": "ipython3",
   "version": "3.8.10"
  }
 },
 "nbformat": 4,
 "nbformat_minor": 4
}
