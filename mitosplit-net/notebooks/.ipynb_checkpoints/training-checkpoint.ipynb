{
 "cells": [
  {
   "cell_type": "markdown",
   "metadata": {},
   "source": [
    "# Create and train MitoSplit-Net model"
   ]
  },
  {
   "cell_type": "markdown",
   "metadata": {
    "id": "0mIcpL6pLPvL"
   },
   "source": [
    "## Import required Python libraries\n",
    "\n"
   ]
  },
  {
   "cell_type": "code",
   "execution_count": 1,
   "metadata": {
    "id": "jaV4mHBXVj2x"
   },
   "outputs": [],
   "source": [
    "import plotting\n",
    "import util\n",
    "import training\n",
    "\n",
    "import numpy as np\n",
    "import matplotlib.pyplot as plt\n",
    "plt.rc('xtick', labelsize=18)\n",
    "plt.rc('ytick', labelsize=18)\n",
    "plt.rc('axes', labelsize=20)\n",
    "plt.rc('legend', fontsize=18)\n",
    "from tqdm.notebook import tqdm\n",
    "\n",
    "import tensorflow as tf"
   ]
  },
  {
   "cell_type": "markdown",
   "metadata": {
    "id": "BVMwTVUOV1KY"
   },
   "source": [
    "## Import and reshape data "
   ]
  },
  {
   "cell_type": "code",
   "execution_count": 2,
   "metadata": {
    "colab": {
     "base_uri": "https://localhost:8080/",
     "height": 740
    },
    "id": "lxMLelekV8xh",
    "outputId": "d24c25ea-08f4-4a95-b467-f3be7088cb50"
   },
   "outputs": [
    {
     "name": "stdout",
     "output_type": "stream",
     "text": [
      "\n",
      "Loading H:/Santi/Data/Mito.h5\n",
      "Converting to array\n",
      "Inputs: (37000, 128, 128)\n",
      "\n",
      "Loading H:/Santi/Data/Proc.h5\n",
      "Converting to array\n",
      "Outputs: (37000, 128, 128)\n"
     ]
    }
   ],
   "source": [
    "base_dir = 'H:/Santi/'\n",
    "data_path = base_dir+'Data/' \n",
    "\n",
    "#Inputs\n",
    "input_data = util.load_h5(data_path, 'Mito')\n",
    "print('Inputs'+':', input_data.shape)\n",
    "\n",
    "#Outputs\n",
    "output_data = util.load_h5(data_path, 'Proc')\n",
    "print('Outputs:', output_data.shape)"
   ]
  },
  {
   "cell_type": "markdown",
   "metadata": {},
   "source": [
    "## Create model"
   ]
  },
  {
   "cell_type": "code",
   "execution_count": 3,
   "metadata": {},
   "outputs": [
    {
     "name": "stdout",
     "output_type": "stream",
     "text": [
      "* Start Encoder Section *\n",
      "* Start Center Section *\n",
      "* Start Decoder Section *\n",
      "Model: \"functional_1\"\n",
      "__________________________________________________________________________________________________\n",
      "Layer (type)                    Output Shape         Param #     Connected to                     \n",
      "==================================================================================================\n",
      "input_1 (InputLayer)            [(None, None, None,  0                                            \n",
      "__________________________________________________________________________________________________\n",
      "conv2d (Conv2D)                 (None, None, None, 8 656         input_1[0][0]                    \n",
      "__________________________________________________________________________________________________\n",
      "batch_normalization (BatchNorma (None, None, None, 8 32          conv2d[0][0]                     \n",
      "__________________________________________________________________________________________________\n",
      "activation (Activation)         (None, None, None, 8 0           batch_normalization[0][0]        \n",
      "__________________________________________________________________________________________________\n",
      "conv2d_1 (Conv2D)               (None, None, None, 8 5192        activation[0][0]                 \n",
      "__________________________________________________________________________________________________\n",
      "batch_normalization_1 (BatchNor (None, None, None, 8 32          conv2d_1[0][0]                   \n",
      "__________________________________________________________________________________________________\n",
      "activation_1 (Activation)       (None, None, None, 8 0           batch_normalization_1[0][0]      \n",
      "__________________________________________________________________________________________________\n",
      "max_pooling2d (MaxPooling2D)    (None, None, None, 8 0           activation_1[0][0]               \n",
      "__________________________________________________________________________________________________\n",
      "conv2d_2 (Conv2D)               (None, None, None, 1 1168        max_pooling2d[0][0]              \n",
      "__________________________________________________________________________________________________\n",
      "batch_normalization_2 (BatchNor (None, None, None, 1 64          conv2d_2[0][0]                   \n",
      "__________________________________________________________________________________________________\n",
      "activation_2 (Activation)       (None, None, None, 1 0           batch_normalization_2[0][0]      \n",
      "__________________________________________________________________________________________________\n",
      "conv2d_3 (Conv2D)               (None, None, None, 1 2320        activation_2[0][0]               \n",
      "__________________________________________________________________________________________________\n",
      "batch_normalization_3 (BatchNor (None, None, None, 1 64          conv2d_3[0][0]                   \n",
      "__________________________________________________________________________________________________\n",
      "activation_3 (Activation)       (None, None, None, 1 0           batch_normalization_3[0][0]      \n",
      "__________________________________________________________________________________________________\n",
      "max_pooling2d_1 (MaxPooling2D)  (None, None, None, 1 0           activation_3[0][0]               \n",
      "__________________________________________________________________________________________________\n",
      "conv2d_6 (Conv2D)               (None, None, None, 3 4640        max_pooling2d_1[0][0]            \n",
      "__________________________________________________________________________________________________\n",
      "batch_normalization_6 (BatchNor (None, None, None, 3 128         conv2d_6[0][0]                   \n",
      "__________________________________________________________________________________________________\n",
      "activation_6 (Activation)       (None, None, None, 3 0           batch_normalization_6[0][0]      \n",
      "__________________________________________________________________________________________________\n",
      "conv2d_7 (Conv2D)               (None, None, None, 3 9248        activation_6[0][0]               \n",
      "__________________________________________________________________________________________________\n",
      "batch_normalization_7 (BatchNor (None, None, None, 3 128         conv2d_7[0][0]                   \n",
      "__________________________________________________________________________________________________\n",
      "activation_7 (Activation)       (None, None, None, 3 0           batch_normalization_7[0][0]      \n",
      "__________________________________________________________________________________________________\n",
      "up_sampling2d_1 (UpSampling2D)  (None, None, None, 3 0           activation_7[0][0]               \n",
      "__________________________________________________________________________________________________\n",
      "concatenate_1 (Concatenate)     (None, None, None, 4 0           activation_3[0][0]               \n",
      "                                                                 up_sampling2d_1[0][0]            \n",
      "__________________________________________________________________________________________________\n",
      "conv2d_10 (Conv2D)              (None, None, None, 1 6928        concatenate_1[0][0]              \n",
      "__________________________________________________________________________________________________\n",
      "batch_normalization_10 (BatchNo (None, None, None, 1 64          conv2d_10[0][0]                  \n",
      "__________________________________________________________________________________________________\n",
      "activation_10 (Activation)      (None, None, None, 1 0           batch_normalization_10[0][0]     \n",
      "__________________________________________________________________________________________________\n",
      "conv2d_11 (Conv2D)              (None, None, None, 1 2320        activation_10[0][0]              \n",
      "__________________________________________________________________________________________________\n",
      "batch_normalization_11 (BatchNo (None, None, None, 1 64          conv2d_11[0][0]                  \n",
      "__________________________________________________________________________________________________\n",
      "activation_11 (Activation)      (None, None, None, 1 0           batch_normalization_11[0][0]     \n",
      "__________________________________________________________________________________________________\n",
      "up_sampling2d_2 (UpSampling2D)  (None, None, None, 1 0           activation_11[0][0]              \n",
      "__________________________________________________________________________________________________\n",
      "concatenate_2 (Concatenate)     (None, None, None, 2 0           activation_1[0][0]               \n",
      "                                                                 up_sampling2d_2[0][0]            \n",
      "__________________________________________________________________________________________________\n",
      "conv2d_12 (Conv2D)              (None, None, None, 8 1736        concatenate_2[0][0]              \n",
      "__________________________________________________________________________________________________\n",
      "batch_normalization_12 (BatchNo (None, None, None, 8 32          conv2d_12[0][0]                  \n",
      "__________________________________________________________________________________________________\n",
      "activation_12 (Activation)      (None, None, None, 8 0           batch_normalization_12[0][0]     \n",
      "__________________________________________________________________________________________________\n",
      "conv2d_13 (Conv2D)              (None, None, None, 8 584         activation_12[0][0]              \n",
      "__________________________________________________________________________________________________\n",
      "batch_normalization_13 (BatchNo (None, None, None, 8 32          conv2d_13[0][0]                  \n",
      "__________________________________________________________________________________________________\n",
      "activation_13 (Activation)      (None, None, None, 8 0           batch_normalization_13[0][0]     \n",
      "__________________________________________________________________________________________________\n",
      "conv2d_14 (Conv2D)              (None, None, None, 1 9           activation_13[0][0]              \n",
      "==================================================================================================\n",
      "Total params: 35,441\n",
      "Trainable params: 35,121\n",
      "Non-trainable params: 320\n",
      "__________________________________________________________________________________________________\n",
      "None\n"
     ]
    }
   ],
   "source": [
    "model = training.create_model()"
   ]
  },
  {
   "cell_type": "markdown",
   "metadata": {
    "id": "Rkaaw6D6LjLU"
   },
   "source": [
    "## Split dataset and train"
   ]
  },
  {
   "cell_type": "code",
   "execution_count": null,
   "metadata": {},
   "outputs": [
    {
     "name": "stdout",
     "output_type": "stream",
     "text": [
      "Epoch 1/20\n",
      "1480/1480 [==============================] - 1852s 1s/step - loss: -0.1207 - binary_accuracy: 0.9451 - val_loss: -0.3584 - val_binary_accuracy: 0.9653\n",
      "Epoch 2/20\n",
      "1480/1480 [==============================] - 1853s 1s/step - loss: -0.4796 - binary_accuracy: 0.9827 - val_loss: -0.5017 - val_binary_accuracy: 0.9780\n",
      "Epoch 3/20\n",
      "1480/1480 [==============================] - 1851s 1s/step - loss: -0.5559 - binary_accuracy: 0.9855 - val_loss: -0.5737 - val_binary_accuracy: 0.9878\n",
      "Epoch 4/20\n",
      "1480/1480 [==============================] - 1851s 1s/step - loss: -0.6019 - binary_accuracy: 0.9875 - val_loss: -0.5547 - val_binary_accuracy: 0.9850\n",
      "Epoch 5/20\n",
      "1480/1480 [==============================] - 1849s 1s/step - loss: -0.6241 - binary_accuracy: 0.9885 - val_loss: -0.6442 - val_binary_accuracy: 0.9896\n",
      "Epoch 6/20\n",
      "1480/1480 [==============================] - 1850s 1s/step - loss: -0.6422 - binary_accuracy: 0.9892 - val_loss: -0.6306 - val_binary_accuracy: 0.9855\n",
      "Epoch 7/20\n",
      "1480/1480 [==============================] - 1856s 1s/step - loss: -0.6572 - binary_accuracy: 0.9898 - val_loss: -0.6300 - val_binary_accuracy: 0.9919\n",
      "Epoch 8/20\n",
      " 390/1480 [======>.......................] - ETA: 21:59 - loss: -0.6535 - binary_accuracy: 0.9902"
     ]
    }
   ],
   "source": [
    "history, frames_test = training.train_model(model, input_data, output_data)"
   ]
  },
  {
   "cell_type": "code",
   "execution_count": null,
   "metadata": {},
   "outputs": [],
   "source": [
    "model_path = base_dir + 'Models/f8_c9_b16/'\n",
    "model.save(model_path+'ref_model.h5')\n",
    "util.save_pkl(history, model_path, 'history')\n",
    "util.save_pkl(frames_test, model_path, 'frames_test')"
   ]
  },
  {
   "cell_type": "code",
   "execution_count": null,
   "metadata": {},
   "outputs": [],
   "source": [
    "metric = 'binary_accuracy'\n",
    "plt.plot(history[metric], label=metric)\n",
    "plt.plot(history['val_'+metric], label='val_'+metric)\n",
    "plt.legend()\n",
    "plt.show()"
   ]
  },
  {
   "cell_type": "code",
   "execution_count": null,
   "metadata": {},
   "outputs": [],
   "source": [
    "input_test = input_data[frames_test]\n",
    "output_test = output_data[frames_test]\n",
    "pred_output_test = model.predict(input_test)[:, :, :, 0]"
   ]
  },
  {
   "cell_type": "code",
   "execution_count": null,
   "metadata": {},
   "outputs": [],
   "source": [
    "nb_examples = 10\n",
    "item_id = np.sort(np.random.randint(0, len(output_test), nb_examples))"
   ]
  },
  {
   "cell_type": "code",
   "execution_count": null,
   "metadata": {},
   "outputs": [],
   "source": [
    "fig, axes = plt.subplots(nb_examples, 2, figsize=(6*2, 6*nb_examples))\n",
    "for i, ax in zip(item_id, axes):\n",
    "  plotting.plot_merge(input_test[i], output_test[i], title='output_test', frame=i, ax=ax[0])\n",
    "  plotting.plot_merge(input_test[i], pred_output_test[i], title='pred_output_test', frame=i, ax=ax[1])\n",
    "fig.subplots_adjust(wspace=0, hspace=0.15)\n",
    "plt.show()"
   ]
  },
  {
   "cell_type": "code",
   "execution_count": 652,
   "metadata": {},
   "outputs": [],
   "source": [
    "metrics_path = base_dir+'Models/ref_model/'\n",
    "threshold_filename = 'ref_threshold'\n",
    "metrics_filename = 'ref_metrics'\n",
    "\n",
    "thresholds = pickle.load(open(metrics_path+threshold_filename,'rb'))\n",
    "metrics = pickle.load(open(metrics_path+metrics_filename,'rb'))"
   ]
  },
  {
   "cell_type": "code",
   "execution_count": 653,
   "metadata": {},
   "outputs": [
    {
     "data": {
      "image/png": "[encoded data removed]",
      "text/plain": [
       "<Figure size 360x360 with 1 Axes>"
      ]
     },
     "metadata": {
      "needs_background": "light"
     },
     "output_type": "display_data"
    }
   ],
   "source": [
    "fig, ax = plt.subplots(figsize=(5, 5))\n",
    "for metric_name in metrics:\n",
    "  ax.plot(thresholds, metrics_test[metric_name], 'o-', label=metric_name.title())\n",
    "ax.set(xlabel='Probability threshold', ylabel='Metric')\n",
    "ax.legend(loc=(0.23, 0.2))\n",
    "plt.show()"
   ]
  }
 ],
 "metadata": {
  "accelerator": "GPU",
  "colab": {
   "collapsed_sections": [],
   "name": "20201014_Mito2Drp1",
   "provenance": [],
   "toc_visible": true
  },
  "kernelspec": {
   "display_name": "Python 3",
   "language": "python",
   "name": "python3"
  },
  "language_info": {
   "codemirror_mode": {
    "name": "ipython",
    "version": 3
   },
   "file_extension": ".py",
   "mimetype": "text/x-python",
   "name": "python",
   "nbconvert_exporter": "python",
   "pygments_lexer": "ipython3",
   "version": "3.8.8"
  }
 },
 "nbformat": 4,
 "nbformat_minor": 4
}
