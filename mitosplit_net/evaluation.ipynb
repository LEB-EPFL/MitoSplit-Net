{
 "cells": [
  {
   "cell_type": "markdown",
   "id": "1cdeeb8a-56d3-493c-a6e4-f6c39b86bd30",
   "metadata": {},
   "source": [
    "# Evaluation of models on test data"
   ]
  },
  {
   "cell_type": "code",
   "execution_count": 7,
   "id": "08ead703-1c04-4ad7-8afe-5aa122a98843",
   "metadata": {},
   "outputs": [
    {
     "name": "stderr",
     "output_type": "stream",
     "text": [
      "/tmp/ipykernel_255116/2731879708.py:4: DeprecationWarning: `magic(...)` is deprecated since IPython 0.13 (warning added in 8.1), use run_line_magic(magic_name, parameter_s).\n",
      "  ipython.magic(\"reload_ext autoreload\")\n",
      "/tmp/ipykernel_255116/2731879708.py:5: DeprecationWarning: `magic(...)` is deprecated since IPython 0.13 (warning added in 8.1), use run_line_magic(magic_name, parameter_s).\n",
      "  ipython.magic(\"autoreload 2\")\n"
     ]
    }
   ],
   "source": [
    "from IPython import get_ipython\n",
    "ipython = get_ipython()\n",
    "if ipython:\n",
    "    ipython.magic(\"reload_ext autoreload\")\n",
    "    ipython.magic(\"autoreload 2\")\n",
    "\n",
    "import util\n",
    "import plotting\n",
    "from  mitosplit_net import evaluation\n",
    "import preprocessing\n",
    "\n",
    "import numpy as np\n",
    "import pandas as pd\n",
    "\n",
    "import matplotlib.pyplot as plt\n",
    "from matplotlib.colors import Normalize\n",
    "plt.rc('xtick', labelsize=18)\n",
    "plt.rc('ytick', labelsize=18)\n",
    "plt.rc('axes', labelsize=20)\n",
    "plt.rc('legend', fontsize=18)\n",
    "\n",
    "from tqdm import tqdm\n",
    "import tensorflow as tf"
   ]
  },
  {
   "cell_type": "code",
   "execution_count": null,
   "id": "529310df-c39c-472d-9a48-29ba925c8d6b",
   "metadata": {},
   "outputs": [],
   "source": [
    "#Define GPU device where the code will run on\n",
    "gpu = tf.config.list_physical_devices('GPU')[0]\n",
    "print(gpu)\n",
    "tf.config.experimental.set_memory_growth(gpu, True)\n",
    "gpu = tf.device('GPU:0/')"
   ]
  },
  {
   "cell_type": "markdown",
   "id": "efab06b6-ed50-4eae-bc5d-f0a28b6d1ce3",
   "metadata": {},
   "source": [
    "## Data and models directories"
   ]
  },
  {
   "cell_type": "code",
   "execution_count": 4,
   "id": "4d9f7e62-04ad-441e-9c73-19f4f19191fe",
   "metadata": {},
   "outputs": [],
   "source": [
    "base_dir = '/mnt/LEB/Scientific_projects/deep_events_WS/data/single_channel_fluo/MitoSplit-Net/'\n",
    "data_path = base_dir+'Data/' \n",
    "model_path = base_dir+'Models/' "
   ]
  },
  {
   "cell_type": "markdown",
   "id": "8e076453-6d46-432f-8e2a-0d36dc3d6ee5",
   "metadata": {},
   "source": [
    "## No preprocessing, different batch sizes"
   ]
  },
  {
   "cell_type": "markdown",
   "id": "0639775f-bc24-4b6c-9e16-c1fbaaf3353d",
   "metadata": {},
   "source": [
    "### Only mito channel as input"
   ]
  },
  {
   "cell_type": "code",
   "execution_count": null,
   "id": "73143976-6d0a-4c3a-86eb-b7727db087b0",
   "metadata": {
    "colab": {
     "base_uri": "https://localhost:8080/",
     "height": 740
    },
    "id": "lxMLelekV8xh",
    "outputId": "d24c25ea-08f4-4a95-b467-f3be7088cb50"
   },
   "outputs": [],
   "source": [
    "#Inputs\n",
    "input_data = util.load_h5(data_path, 'Mito')\n",
    "print('Inputs'+':', input_data.shape)\n",
    "\n",
    "#Outputs\n",
    "output_data = util.load_h5(data_path, 'Proc')\n",
    "print('Outputs:', output_data.shape)\n",
    "\n",
    "labels = util.load_h5(data_path, 'labels')\n",
    "print('Labels:', labels.shape)"
   ]
  },
  {
   "cell_type": "code",
   "execution_count": null,
   "id": "b85d0e96-a7eb-4fd9-8d2e-f03e1d747d6f",
   "metadata": {},
   "outputs": [],
   "source": [
    "from pathlib import Path\n",
    "folder_name = util.get_filename(model_path, 'ref_f8')\n",
    "folder_name = [folder for folder in folder_name if folder.split('/')[-1][:3] == 'ref']\n",
    "idx_sort = np.argsort([int(model_name.split('_b')[-1]) for model_name in folder_name])\n",
    "folder_name = [folder_name[i] for i in idx_sort]\n",
    "folder_name = [str(Path(folder).parts[-1]) for folder in folder_name]\n",
    "nb_models = len(folder_name)\n",
    "\n",
    "model = util.load_model(model_path, ['model']*nb_models, folder_name, as_type=dict)\n",
    "history = util.load_pkl(model_path, ['history']*nb_models, folder_name, as_type=dict)\n",
    "frames_test = util.load_pkl(model_path, ['frames_test']*nb_models, folder_name, as_type=dict)"
   ]
  },
  {
   "cell_type": "code",
   "execution_count": null,
   "id": "afaef4ac-8bb5-497f-a66f-0cf65ab26498",
   "metadata": {},
   "outputs": [],
   "source": [
    "input_test, output_test, pred_output_test = {}, {}, {}\n",
    "labels_test = {}\n",
    "\n",
    "model_pbar = tqdm(model.keys())\n",
    "for model_name in model_pbar:\n",
    "  model_pbar.set_description(\"Processing %s\" %model_name)\n",
    "  input_test[model_name] = input_data[frames_test[model_name]]\n",
    "  output_test[model_name] = output_data[frames_test[model_name]]\n",
    "  labels_test[model_name] = labels[frames_test[model_name]]\n",
    "\n",
    "  pred_output_test[model_name] = evaluation.predict(input_test[model_name], model[model_name])\n",
    "\n",
    "del output_data, labels, input_data"
   ]
  },
  {
   "cell_type": "markdown",
   "id": "a7a750c3-4abf-4e93-8ff0-bd5f2d67da19",
   "metadata": {},
   "source": [
    "#### Threshold optimization"
   ]
  },
  {
   "cell_type": "code",
   "execution_count": null,
   "id": "2add733a-d896-44df-9449-fc2e4f2616d7",
   "metadata": {},
   "outputs": [],
   "source": [
    "pred_threshold = np.array([0.1, 0.2, 0.3, 0.5])\n",
    "f1_score = {}\n",
    "optimal_pred_threshold = {}\n",
    "pred_labels_test = {}\n",
    "\n",
    "for model_name in model:\n",
    "  print(\"Processing %s\" %model_name)\n",
    "  f1_score[model_name] = evaluation.get_fbeta_curve(labels_test[model_name], pred_output_test[model_name], pred_threshold)\n",
    "  \n",
    "  optimal_pred_threshold[model_name] = evaluation.get_optimal_threshold(pred_threshold, f1_score[model_name])\n",
    "  \n",
    "  pred_labels_test[model_name] = evaluation.label(pred_output_test[model_name], threshold=optimal_pred_threshold[model_name])\n",
    "  print('\\n')\n",
    "  \n",
    "util.save_pkl(pred_threshold, model_path, 'ref_pred_threshold')\n",
    "util.save_pkl(f1_score, model_path, 'ref_f1_score')\n",
    "util.save_pkl(optimal_pred_threshold, model_path, 'ref_optimal_pred_threshold')"
   ]
  },
  {
   "cell_type": "code",
   "execution_count": null,
   "id": "ae0af299-9ace-4a65-b8ce-e6f195e74efa",
   "metadata": {},
   "outputs": [],
   "source": [
    "batch_size = [int(model_name.split('_b')[-1]) for model_name in folder_name]\n",
    "\n",
    "num_models = len(batch_size)\n",
    "cbar_ticks = np.arange(num_models)\n",
    "\n",
    "norm_bounds = -1, num_models-1\n",
    "norm = Normalize(*norm_bounds)\n",
    "cmap = plt.cm.ScalarMappable(cmap='Oranges', norm=norm)\n",
    "colors = cmap.get_cmap()(norm(cbar_ticks))\n",
    "\n",
    "fig, ax = plt.subplots(figsize=(7, 7))\n",
    "for model_name, b, c in zip(model, batch_size, colors):\n",
    "  ax.plot(pred_threshold, f1_score[model_name], 'o-', color=c, label=b)\n",
    "\n",
    "ax.set(xlabel='Normalized event score threshold', ylabel='F1-score', ylim=(0, 1))\n",
    "ax.legend(title='Batch size', title_fontsize=20)\n",
    "plt.show()"
   ]
  },
  {
   "cell_type": "code",
   "execution_count": null,
   "id": "2ad6e8d7-7dfa-4666-8f6e-bb38bfda12dd",
   "metadata": {},
   "outputs": [],
   "source": [
    "title = 'ref_examples'\n",
    "filename = base_dir+'Figures/'+title+'.pdf'\n",
    "print(filename)\n",
    "\n",
    "title_size = 36\n",
    "\n",
    "fig, axes = plt.subplots(2, nb_models, figsize=(4*nb_models, 8))\n",
    "fig.suptitle('Batch size', size=title_size)\n",
    "for model_name, b, i in zip(folder_name, [8, 16, 32, 256], range(nb_models)):\n",
    "  frame = np.random.choice(np.where(np.any(np.any(output_test[model_name]>0, axis=-1), axis=-1))[0])\n",
    "  mask = pred_output_test[model_name][frame]>optimal_pred_threshold[model_name]\n",
    "  plotting.plot_merge(input_test[model_name][frame], output_test[model_name][frame], title='', ax=axes[0, i])\n",
    "  plotting.plot_merge(input_test[model_name][frame], pred_output_test[model_name][frame]*mask, title='', ax=axes[1, i])\n",
    "  axes[0, i].set_title(b, size=title_size)\n",
    "  \n",
    "fig.tight_layout(pad=0)\n",
    "fig.subplots_adjust(wspace=0, hspace=0.02, top=0.85)\n",
    "#plt.show()\n",
    "fig.savefig(filename)"
   ]
  },
  {
   "cell_type": "code",
   "execution_count": null,
   "id": "58263d3f-09b1-4d09-b4e7-3049f65e8d75",
   "metadata": {},
   "outputs": [],
   "source": [
    "for model_name in folder_name:\n",
    "  mask = pred_output_test[model_name]>optimal_pred_threshold[model_name]\n",
    "  plotting.plot_outputs(input_test[model_name], output_test[model_name], \n",
    "                        pred_output_test[model_name]*mask, frames_test[model_name], \n",
    "                        nb_examples=5, title=model_name, cmap=['gray', 'inferno'])\n",
    "  plt.show()\n",
    "  print('\\n')"
   ]
  },
  {
   "cell_type": "markdown",
   "id": "8f5a391b-6ca3-4e53-8e48-2acfc276d41e",
   "metadata": {},
   "source": [
    "#### Labels binary overlap"
   ]
  },
  {
   "cell_type": "code",
   "execution_count": null,
   "id": "a543d5bc-25dd-4ee4-937f-a86c69e48781",
   "metadata": {},
   "outputs": [],
   "source": [
    "fissionStats = {}\n",
    "for model_name in model:\n",
    "  print('\\nModel name:', model_name)\n",
    "  fissionStats[model_name] = evaluation.fissionStatsStack(labels_test[model_name], pred_labels_test[model_name])\n",
    "  \n",
    "fissionStats = pd.DataFrame(fissionStats, index=['TP', 'FP', 'FN', 'TP_px', 'FP_px', 'FN_px']).T\n",
    "fissionStats['precision'] = fissionStats['TP']/(fissionStats['TP']+fissionStats['FP'])\n",
    "fissionStats['TPR'] = fissionStats['TP']/(fissionStats['TP']+fissionStats['FN'])\n",
    "fissionStats['FDR'] = fissionStats['FP']/(fissionStats['TP']+fissionStats['FP'])\n",
    "\n",
    "fissionStats['precision_px'] = fissionStats['TP_px']/(fissionStats['TP_px']+fissionStats['FP_px'])\n",
    "fissionStats['TPR_px'] = fissionStats['TP_px']/(fissionStats['TP_px']+fissionStats['FN_px'])\n",
    "fissionStats['FDR_px'] = fissionStats['FP_px']/(fissionStats['TP_px']+fissionStats['FP_px'])\n",
    "\n",
    "fissionStats = fissionStats.T"
   ]
  },
  {
   "cell_type": "code",
   "execution_count": null,
   "id": "6afd799c-361a-4fa5-a977-152ac96b22db",
   "metadata": {},
   "outputs": [],
   "source": [
    "title = 'ref_fissionStats'\n",
    "filename = base_dir+'Figures/'+title+'.png'\n",
    "print(filename)\n",
    "\n",
    "fig = plt.figure(figsize=(7*2, 7))\n",
    "gs = fig.add_gridspec(1, 3, width_ratios=[1, 1, 0.05])\n",
    "\n",
    "axes = []\n",
    "axes += [fig.add_subplot(gs[0])]\n",
    "axes += [fig.add_subplot(gs[1])]\n",
    "cax = fig.add_subplot(gs[2])\n",
    "\n",
    "\n",
    "plotting.plot_metrics_comparison(fissionStats.loc[['precision', 'TPR', 'FDR']], xscale=2, color=colors, ax=axes[0], ylim=[0, 1], legend=False)  \n",
    "plotting.plot_metrics_comparison(fissionStats.loc[['precision_px', 'TPR_px', 'FDR_px']], xscale=2, color=colors, ax=axes[1], ylim=[0, 1], legend=False)\n",
    "axes[1].set_yticklabels([])\n",
    "\n",
    "for ax, title in zip(axes, ['Object level', 'Pixel level']):\n",
    "  ax.set_title(title, size=22)\n",
    "  ax.tick_params(axis='x')\n",
    "  ax.tick_params(axis='y')\n",
    "\n",
    "cbar = fig.colorbar(cmap, cax=cax, ticks=cbar_ticks)\n",
    "cbar.set_ticklabels(batch_size)\n",
    "cbar.set_label('Batch size (a.u.)', labelpad=15)\n",
    "\n",
    "\n",
    "plt.tight_layout(pad=0)\n",
    "fig.subplots_adjust(wspace=0.05, top=0.84, right=0.98)\n",
    "\n",
    "#plt.show()\n",
    "fig.savefig(filename)"
   ]
  },
  {
   "cell_type": "markdown",
   "id": "e4bc6890-57bc-4e89-99bb-e975c97085de",
   "metadata": {},
   "source": [
    "#### Detection match"
   ]
  },
  {
   "cell_type": "code",
   "execution_count": 45,
   "id": "22901549-cba2-46d5-9475-eba1714cc61f",
   "metadata": {},
   "outputs": [],
   "source": [
    "det_match = [evaluation.detection_match(output_test[model_name], pred_output_test[model_name]) for model_name in folder_name]"
   ]
  },
  {
   "cell_type": "code",
   "execution_count": null,
   "id": "ab126ba1-dd5f-4834-9d82-d30d6ddb0cc0",
   "metadata": {},
   "outputs": [],
   "source": [
    "facecolor = (0.13, 0.13, 0.13, 1)\n",
    "title = 'ref_det_match_new'\n",
    "filename = base_dir+'Figures/'+title+'.png'\n",
    "print(filename)\n",
    "\n",
    "fig, ax = plt.subplots(figsize=(5, 5))\n",
    "\n",
    "ax.plot(det_match, 'o-')\n",
    "ax.set_xticks(range(len(det_match)))\n",
    "ax.set_xticklabels([8, 16, 32, 256])\n",
    "ax.set_xlabel('Batch size')\n",
    "ax.set_ylabel('Detection match')\n",
    "\n",
    "ax.tick_params(axis='x')\n",
    "ax.tick_params(axis='y')\n",
    "\n",
    "plt.tight_layout(pad=0)\n",
    "#plt.show()\n",
    "fig.savefig(filename)"
   ]
  },
  {
   "cell_type": "markdown",
   "id": "1c0d936f-f68b-42de-8121-0a43b5f6ddad",
   "metadata": {},
   "source": [
    "### Mito + Drp1 channels as inputs"
   ]
  },
  {
   "cell_type": "code",
   "execution_count": null,
   "id": "af9be78f-b6b5-43b7-afb4-3e118bc9e1f4",
   "metadata": {
    "colab": {
     "base_uri": "https://localhost:8080/",
     "height": 740
    },
    "id": "lxMLelekV8xh",
    "outputId": "d24c25ea-08f4-4a95-b467-f3be7088cb50"
   },
   "outputs": [],
   "source": [
    "#Inputs\n",
    "input_data = util.load_h5(data_path, 'Mito')\n",
    "input_data = np.stack((input_data, util.load_h5(data_path, 'Drp1')), axis=-1)\n",
    "print('Inputs'+':', input_data.shape)\n",
    "\n",
    "#Outputs\n",
    "output_data = util.load_h5(data_path, 'Proc')\n",
    "print('Outputs:', output_data.shape)\n",
    "\n",
    "labels = util.load_h5(data_path, 'labels')\n",
    "print('Labels:', labels.shape)"
   ]
  },
  {
   "cell_type": "code",
   "execution_count": null,
   "id": "f1654e20",
   "metadata": {},
   "outputs": [],
   "source": [
    "folder_name"
   ]
  },
  {
   "cell_type": "code",
   "execution_count": null,
   "id": "3930991a-f2ca-465b-9095-24ba7e3783d8",
   "metadata": {},
   "outputs": [],
   "source": [
    "folder_name = util.get_filename(model_path, 'multich_ref_f8')\n",
    "idx_sort = np.argsort([int(model_name.split('_b')[-1]) for model_name in folder_name])\n",
    "\n",
    "folder_name = [folder_name[i] for i in idx_sort]\n",
    "folder_name = [str(Path(folder).parts[-1]) for folder in folder_name]\n",
    "# folder_name = [folder for folder in folder_name if folder.split('/')[-1][:3] == 'mul']\n",
    "nb_models = len(folder_name)\n",
    "\n",
    "model = util.load_model(model_path, ['model']*nb_models, folder_name, as_type=dict)\n",
    "history = util.load_pkl(model_path, ['history']*nb_models, folder_name, as_type=dict)\n",
    "frames_test = util.load_pkl(model_path, ['frames_test']*nb_models, folder_name, as_type=dict)"
   ]
  },
  {
   "cell_type": "code",
   "execution_count": null,
   "id": "242da95b-aa8e-415c-9195-c4be183a36f8",
   "metadata": {},
   "outputs": [],
   "source": [
    "input_test, output_test, pred_output_test = {}, {}, {}\n",
    "labels_test = {}\n",
    "\n",
    "model_pbar = tqdm(model.keys())\n",
    "for model_name in model_pbar:\n",
    "  model_pbar.set_description(\"Processing %s\" %model_name)\n",
    "  input_test[model_name] = input_data[frames_test[model_name]]\n",
    "  output_test[model_name] = output_data[frames_test[model_name]]\n",
    "  labels_test[model_name] = labels[frames_test[model_name]]\n",
    "\n",
    "  pred_output_test[model_name] = evaluation.predict(input_test[model_name], model[model_name])\n",
    "\n",
    "del output_data, labels, input_data"
   ]
  },
  {
   "cell_type": "markdown",
   "id": "08ffe838-966e-45ae-8dc3-332e5b3ab8ab",
   "metadata": {},
   "source": [
    "#### Threshold optimization"
   ]
  },
  {
   "cell_type": "code",
   "execution_count": null,
   "id": "1da2620c-17e6-4a2a-bd77-8d7e79506917",
   "metadata": {},
   "outputs": [],
   "source": [
    "pred_threshold = np.array([0.1, 0.2, 0.3, 0.5])\n",
    "f1_score = {}\n",
    "optimal_pred_threshold = {}\n",
    "pred_labels_test = {}\n",
    "\n",
    "for model_name in model:\n",
    "  print(\"Processing %s\" %model_name)\n",
    "  f1_score[model_name] = evaluation.get_fbeta_curve(labels_test[model_name], pred_output_test[model_name], pred_threshold)\n",
    "  \n",
    "  optimal_pred_threshold[model_name] = evaluation.get_optimal_threshold(pred_threshold, f1_score[model_name])\n",
    "  \n",
    "  pred_labels_test[model_name] = evaluation.label(pred_output_test[model_name], threshold=optimal_pred_threshold[model_name])\n",
    "  print('\\n')\n",
    "  \n",
    "util.save_pkl(f1_score, model_path, 'multich_ref_f1_score')\n",
    "util.save_pkl(optimal_pred_threshold, model_path, 'multich_ref_optimal_pred_threshold')"
   ]
  },
  {
   "cell_type": "code",
   "execution_count": null,
   "id": "bc5250f5-c819-4ac2-b0fa-6ea23b8fa65b",
   "metadata": {},
   "outputs": [],
   "source": [
    "batch_size = [int(model_name.split('_b')[-1]) for model_name in folder_name]\n",
    "\n",
    "num_models = len(batch_size)\n",
    "cbar_ticks = np.arange(num_models)\n",
    "\n",
    "norm_bounds = -1, num_models-1\n",
    "norm = Normalize(*norm_bounds)\n",
    "cmap = plt.cm.ScalarMappable(cmap='Oranges', norm=norm)\n",
    "colors = cmap.get_cmap()(norm(cbar_ticks))\n",
    "\n",
    "fig, ax = plt.subplots(figsize=(7, 7))\n",
    "for model_name, b, c in zip(model, batch_size, colors):\n",
    "  ax.plot(pred_threshold, f1_score[model_name], 'o-', color=c, label=b)\n",
    "\n",
    "ax.set(xlabel='Normalized event score threshold', ylabel='F1-score', ylim=(0, 1))\n",
    "ax.legend(title='Batch size', title_fontsize=20)\n",
    "plt.show()"
   ]
  },
  {
   "cell_type": "code",
   "execution_count": null,
   "id": "b5d3bfb7-c435-487a-a771-156130092f61",
   "metadata": {},
   "outputs": [],
   "source": [
    "plt.imshow(input_test[model_name][frame][:, :, 0])"
   ]
  },
  {
   "cell_type": "code",
   "execution_count": null,
   "id": "a1829518-3552-485c-ae28-bfdde499d94d",
   "metadata": {},
   "outputs": [],
   "source": [
    "title = 'multich_ref_examples'\n",
    "filename = base_dir+'Figures/'+title+'.pdf'\n",
    "print(filename)\n",
    "\n",
    "title_size = 36\n",
    "\n",
    "fig, axes = plt.subplots(2, nb_models, figsize=(4*nb_models, 8))\n",
    "fig.suptitle('Batch size', size=title_size)\n",
    "for model_name, b, i in zip(folder_name, [8, 16, 32, 256], range(nb_models)):\n",
    "  frame = np.random.choice(np.where(np.any(np.any(output_test[model_name]>0, axis=-1), axis=-1))[0])\n",
    "  mask = pred_output_test[model_name][frame]>optimal_pred_threshold[model_name]\n",
    "  plotting.plot_merge(input_test[model_name][frame][:, :, 0], output_test[model_name][frame], title='', ax=axes[0, i])\n",
    "  plotting.plot_merge(input_test[model_name][frame][:, :, 0], pred_output_test[model_name][frame]*mask, title='', ax=axes[1, i])\n",
    "  axes[0, i].set_title(b, size=title_size)\n",
    "  \n",
    "fig.tight_layout(pad=0)\n",
    "fig.subplots_adjust(wspace=0, hspace=0.02, top=0.85)\n",
    "#plt.show()\n",
    "fig.savefig(filename)"
   ]
  },
  {
   "cell_type": "code",
   "execution_count": null,
   "id": "2fbd761e-06b9-41c5-8a64-5527f4f62b2a",
   "metadata": {},
   "outputs": [],
   "source": [
    "for model_name in folder_name:\n",
    "  mask = pred_output_test[model_name]>optimal_pred_threshold[model_name]\n",
    "  plotting.plot_outputs(input_test[model_name][:, :, :, 0], output_test[model_name], \n",
    "                        pred_output_test[model_name]*mask, frames_test[model_name], \n",
    "                        nb_examples=5, title=model_name, cmap=['gray', 'inferno'])\n",
    "  plt.show()\n",
    "  print('\\n')"
   ]
  },
  {
   "cell_type": "markdown",
   "id": "e7e4a357-8e25-4e76-b458-289fcd8c6e6e",
   "metadata": {},
   "source": [
    "#### Labels binary overlap"
   ]
  },
  {
   "cell_type": "code",
   "execution_count": null,
   "id": "5ec92505-c59d-428d-a5d3-2e9116e87234",
   "metadata": {},
   "outputs": [],
   "source": [
    "fissionStats = {}\n",
    "for model_name in model:\n",
    "  print('\\nModel name:', model_name)\n",
    "  fissionStats[model_name] = evaluation.fissionStatsStack(labels_test[model_name], pred_labels_test[model_name])\n",
    "  \n",
    "fissionStats = pd.DataFrame(fissionStats, index=['TP', 'FP', 'FN', 'TP_px', 'FP_px', 'FN_px']).T\n",
    "fissionStats['precision'] = fissionStats['TP']/(fissionStats['TP']+fissionStats['FP'])\n",
    "fissionStats['TPR'] = fissionStats['TP']/(fissionStats['TP']+fissionStats['FN'])\n",
    "fissionStats['FDR'] = fissionStats['FP']/(fissionStats['TP']+fissionStats['FP'])\n",
    "\n",
    "fissionStats['precision_px'] = fissionStats['TP_px']/(fissionStats['TP_px']+fissionStats['FP_px'])\n",
    "fissionStats['TPR_px'] = fissionStats['TP_px']/(fissionStats['TP_px']+fissionStats['FN_px'])\n",
    "fissionStats['FDR_px'] = fissionStats['FP_px']/(fissionStats['TP_px']+fissionStats['FP_px'])\n",
    "\n",
    "fissionStats = fissionStats.T"
   ]
  },
  {
   "cell_type": "code",
   "execution_count": null,
   "id": "c9f56e59-84c0-4126-8148-f27f3d47f9e8",
   "metadata": {},
   "outputs": [],
   "source": [
    "title = 'multich_ref_fissionStats'\n",
    "filename = base_dir+'Figures/'+title+'.png'\n",
    "print(filename)\n",
    "\n",
    "fig = plt.figure(figsize=(7*2, 7))\n",
    "gs = fig.add_gridspec(1, 3, width_ratios=[1, 1, 0.05])\n",
    "\n",
    "axes = []\n",
    "axes += [fig.add_subplot(gs[0])]\n",
    "axes += [fig.add_subplot(gs[1])]\n",
    "cax = fig.add_subplot(gs[2])\n",
    "\n",
    "\n",
    "plotting.plot_metrics_comparison(fissionStats.loc[['precision', 'TPR', 'FDR']], xscale=2, color=colors, ax=axes[0], ylim=[0, 1], legend=False)  \n",
    "plotting.plot_metrics_comparison(fissionStats.loc[['precision_px', 'TPR_px', 'FDR_px']], xscale=2, color=colors, ax=axes[1], ylim=[0, 1], legend=False)\n",
    "axes[1].set_yticklabels([])\n",
    "\n",
    "for ax, title in zip(axes, ['Object level', 'Pixel level']):\n",
    "  ax.set_title(title, size=22)\n",
    "  ax.tick_params(axis='x')\n",
    "  ax.tick_params(axis='y')\n",
    "\n",
    "cbar = fig.colorbar(cmap, cax=cax, ticks=cbar_ticks)\n",
    "cbar.set_ticklabels(batch_size)\n",
    "cbar.set_label('Batch size (a.u.)', labelpad=15)\n",
    "\n",
    "\n",
    "plt.tight_layout(pad=0)\n",
    "fig.subplots_adjust(wspace=0.05, top=0.84, right=0.98)\n",
    "\n",
    "#plt.show()\n",
    "fig.savefig(filename)"
   ]
  },
  {
   "cell_type": "markdown",
   "id": "c68ed846-a447-44ae-bff0-f5150ea7d422",
   "metadata": {},
   "source": [
    "#### Detection match"
   ]
  },
  {
   "cell_type": "code",
   "execution_count": 62,
   "id": "80d15b50-b0d2-45ed-8109-73837c14e190",
   "metadata": {},
   "outputs": [],
   "source": [
    "det_match = [evaluation.detection_match(output_test[model_name], pred_output_test[model_name]) for model_name in folder_name]"
   ]
  },
  {
   "cell_type": "code",
   "execution_count": null,
   "id": "081a49e3-3c28-44f7-be0c-0909bb0cfe88",
   "metadata": {},
   "outputs": [],
   "source": [
    "facecolor = (0.13, 0.13, 0.13, 1)\n",
    "title = 'multich_ref_det_match'\n",
    "filename = base_dir+'Figures/'+title+'.png'\n",
    "print(filename)\n",
    "\n",
    "fig, ax = plt.subplots(figsize=(5, 5))\n",
    "\n",
    "ax.plot(det_match, 'o-')\n",
    "ax.set_xticks(range(len(det_match)))\n",
    "ax.set_xticklabels([8, 16, 32, 256])\n",
    "ax.set_xlabel('Batch size')\n",
    "ax.set_ylabel('Detection match')\n",
    "\n",
    "ax.tick_params(axis='x')\n",
    "ax.tick_params(axis='y')\n",
    "\n",
    "plt.tight_layout(pad=0)\n",
    "#plt.show()\n",
    "fig.savefig(filename)"
   ]
  },
  {
   "cell_type": "markdown",
   "id": "d895801e-1238-49ca-bab5-27fcd504bde6",
   "metadata": {},
   "source": [
    "## Mito & WatProc, different spot sizes"
   ]
  },
  {
   "cell_type": "markdown",
   "id": "5cc51e83-5d52-4676-86b2-203095b0a42e",
   "metadata": {},
   "source": [
    "### Only mito channel as input"
   ]
  },
  {
   "cell_type": "code",
   "execution_count": null,
   "id": "3a412f60-c359-4c38-bd61-419115536220",
   "metadata": {
    "colab": {
     "base_uri": "https://localhost:8080/",
     "height": 740
    },
    "id": "lxMLelekV8xh",
    "outputId": "d24c25ea-08f4-4a95-b467-f3be7088cb50"
   },
   "outputs": [],
   "source": [
    "#Inputs\n",
    "input_data = util.load_h5(data_path, 'Mito')\n",
    "print('Inputs'+':', input_data.shape)\n",
    "\n",
    "dilation_sigma = util.load_pkl(data_path, 'max_optimal_sigma')\n",
    "dilation_threshold = util.load_pkl(data_path, 'max_intensity_threshold')\n",
    "num_sigmas = dilation_sigma.shape[0]"
   ]
  },
  {
   "cell_type": "code",
   "execution_count": null,
   "id": "9373c015-a4aa-4bff-91fe-1feddab709d9",
   "metadata": {},
   "outputs": [],
   "source": [
    "#Outputs\n",
    "folder_name = util.get_filename(model_path, 'wp_f8')\n",
    "folder_name = [model_name for model_name in folder_name if np.all([tag not in model_name for tag in ['aug', 'temp', 'multich']])]\n",
    "folder_name = [str(Path(folder).parts[-1]) for folder in folder_name]\n",
    "num_models = len(folder_name)\n",
    "\n",
    "model = util.load_model(model_path, ['model']*num_models, folder_name, as_type=dict)\n",
    "history = util.load_pkl(model_path, ['history']*num_models, folder_name, as_type=dict)\n",
    "frames_test = util.load_pkl(model_path, ['frames_test']*num_models, folder_name, as_type=dict)"
   ]
  },
  {
   "cell_type": "code",
   "execution_count": null,
   "id": "e6aa704f-5a27-4980-b251-a67f6df40dae",
   "metadata": {},
   "outputs": [],
   "source": [
    "input_test, output_test, pred_output_test = {}, {}, {}\n",
    "labels_test = {}\n",
    "\n",
    "for model_name, s, t in zip(folder_name, dilation_sigma, dilation_threshold):\n",
    "  print('\\nModel: %s'%model_name)\n",
    "  \n",
    "  #Inputs\n",
    "  input_test[model_name] = input_data[frames_test[model_name]]\n",
    "  \n",
    "  metadata = 's%.1f_t%.i'%(s, t)\n",
    "  #Outputs\n",
    "  output_data = util.load_h5(data_path, 'WatProc_'+metadata)\n",
    "  print('Outputs:', output_data.shape)\n",
    "  output_test[model_name] = output_data[frames_test[model_name]]\n",
    "  del output_data\n",
    "  \n",
    "  #Labels\n",
    "  labels = util.load_h5(data_path, 'proc_labels_'+metadata)\n",
    "  print('Labels:', labels.shape)\n",
    "  labels_test[model_name] = labels[frames_test[model_name]]\n",
    "  del labels\n",
    "  \n",
    "  pred_output_test[model_name] = evaluation.predict(input_test[model_name], model[model_name])\n",
    "\n",
    "del input_data"
   ]
  },
  {
   "cell_type": "markdown",
   "id": "522bb12e-6723-47a6-9672-7b583f198118",
   "metadata": {},
   "source": [
    "#### Threshold optimization"
   ]
  },
  {
   "cell_type": "code",
   "execution_count": null,
   "id": "43860c51-92a1-4292-8022-f3ab589d86e3",
   "metadata": {},
   "outputs": [],
   "source": [
    "pred_threshold = np.linspace(0.05, 0.35, 10, endpoint=True)\n",
    "f1_score = {}\n",
    "optimal_pred_threshold = {}\n",
    "pred_labels_test = {}\n",
    "\n",
    "for model_name in model:\n",
    "  print(\"Processing %s\" %model_name)\n",
    "  f1_score[model_name] = evaluation.get_fbeta_curve(labels_test[model_name], pred_output_test[model_name], pred_threshold)\n",
    "  optimal_pred_threshold[model_name] = evaluation.get_optimal_threshold(pred_threshold, f1_score[model_name])\n",
    "  pred_labels_test[model_name] = evaluation.label(pred_output_test[model_name], threshold=optimal_pred_threshold[model_name])\n",
    "  print('\\n')\n",
    "  \n",
    "util.save_pkl(pred_threshold, model_path, 'pred_threshold')\n",
    "util.save_pkl(f1_score, model_path, 'wp_f1_score')\n",
    "util.save_pkl(optimal_pred_threshold, model_path, 'wp_optimal_pred_threshold')"
   ]
  },
  {
   "cell_type": "code",
   "execution_count": null,
   "id": "ac98dcc0-bbf9-4774-90e0-89e35bdc4b8a",
   "metadata": {},
   "outputs": [],
   "source": [
    "cbar_ticks = np.arange(num_models)\n",
    "\n",
    "norm_bounds = -1, num_models-1\n",
    "norm = Normalize(*norm_bounds)\n",
    "cmap = plt.cm.ScalarMappable(cmap='Oranges', norm=norm)\n",
    "colors = cmap.get_cmap()(norm(cbar_ticks))\n",
    "\n",
    "fig, ax = plt.subplots(figsize=(10, 10))\n",
    "for model_name, thr, c in zip(model, dilation_threshold, colors):\n",
    "  ax.plot(pred_threshold, f1_score[model_name], 'o-', color=c, label=thr)\n",
    "\n",
    "ax.set(xlabel='Normalized event score threshold', ylabel='F1-score', ylim=(0, 1))\n",
    "ax.legend(title='Event score threshold\\nafter dilation', title_fontsize=20, ncol=2)\n",
    "plt.show()"
   ]
  },
  {
   "cell_type": "code",
   "execution_count": null,
   "id": "9a80413f-5757-472b-95d7-fe5369c4e34f",
   "metadata": {},
   "outputs": [],
   "source": [
    "for model_name in folder_name:\n",
    "  mask = pred_output_test[model_name]>optimal_pred_threshold[model_name]\n",
    "  plotting.plot_outputs(input_test[model_name], output_test[model_name], \n",
    "                        pred_output_test[model_name]*mask, frames_test[model_name], \n",
    "                        nb_examples=5, title=model_name, cmap=['gray', 'inferno'])\n",
    "  plt.show()\n",
    "  print('\\n')"
   ]
  },
  {
   "cell_type": "markdown",
   "id": "f907ec05-66ab-4b97-9f2a-02376a7dd9be",
   "metadata": {},
   "source": [
    "#### Labels binary overlap"
   ]
  },
  {
   "cell_type": "code",
   "execution_count": null,
   "id": "478f53f2-eca9-4bcc-9bfb-4272d80e22e1",
   "metadata": {},
   "outputs": [],
   "source": [
    "fissionStats = {}\n",
    "for model_name in labels_test:\n",
    "  print('\\nModel name:', model_name)\n",
    "  fissionStats[model_name] = evaluation.fissionStatsStack(labels_test[model_name], pred_labels_test[model_name])"
   ]
  },
  {
   "cell_type": "code",
   "execution_count": 75,
   "id": "56a4e296-25e3-4b8e-a3d5-bd21d8f58aa4",
   "metadata": {},
   "outputs": [],
   "source": [
    "fissionStats = pd.DataFrame(fissionStats, index=['TP', 'FP', 'FN', 'TP_px', 'FP_px', 'FN_px']).T\n",
    "fissionStats['precision'] = fissionStats['TP']/(fissionStats['TP']+fissionStats['FP'])\n",
    "fissionStats['TPR'] = fissionStats['TP']/(fissionStats['TP']+fissionStats['FN'])\n",
    "fissionStats['FDR'] = fissionStats['FP']/(fissionStats['TP']+fissionStats['FP'])\n",
    "\n",
    "fissionStats['precision_px'] = fissionStats['TP_px']/(fissionStats['TP_px']+fissionStats['FP_px'])\n",
    "fissionStats['TPR_px'] = fissionStats['TP_px']/(fissionStats['TP_px']+fissionStats['FN_px'])\n",
    "fissionStats['FDR_px'] = fissionStats['FP_px']/(fissionStats['TP_px']+fissionStats['FP_px'])\n",
    "\n",
    "fissionStats = fissionStats.T"
   ]
  },
  {
   "cell_type": "code",
   "execution_count": null,
   "id": "fe4f76f8-0d59-4f09-8945-d2c4abc08c9f",
   "metadata": {},
   "outputs": [],
   "source": [
    "title = 'wp_fissionStats'\n",
    "filename = base_dir+'Figures/'+title+'.png'\n",
    "print(filename)\n",
    "\n",
    "fig = plt.figure(figsize=(7*2, 7))\n",
    "gs = fig.add_gridspec(1, 3, width_ratios=[1, 1, 0.05])\n",
    "\n",
    "axes = []\n",
    "axes += [fig.add_subplot(gs[0])]\n",
    "axes += [fig.add_subplot(gs[1])]\n",
    "cax = fig.add_subplot(gs[2])\n",
    "\n",
    "plotting.plot_metrics_comparison(fissionStats.loc[['precision', 'TPR', 'FDR']], xscale=2, color=colors, ax=axes[0], ylim=[0, 1], legend=False)  \n",
    "plotting.plot_metrics_comparison(fissionStats.loc[['precision_px', 'TPR_px', 'FDR_px']], xscale=2, color=colors, ax=axes[1], ylim=[0, 1], legend=False)\n",
    "axes[1].set_yticklabels([])\n",
    "\n",
    "for ax, title in zip(axes, ['Object level', 'Pixel level']):\n",
    "  ax.set_title(title, size=22)\n",
    "  ax.tick_params(axis='x')\n",
    "  ax.tick_params(axis='y')\n",
    "\n",
    "cbar = fig.colorbar(cmap, cax=cax, ticks=cbar_ticks)\n",
    "cbar.set_ticklabels(dilation_threshold)\n",
    "cbar.set_label('Event score threshold\\nafter dilation (a.u.)', labelpad=15)\n",
    "\n",
    "\n",
    "plt.tight_layout(pad=0)\n",
    "fig.subplots_adjust(wspace=0.05, top=0.84, right=0.98)\n",
    "\n",
    "#plt.show()\n",
    "fig.savefig(filename)"
   ]
  },
  {
   "cell_type": "markdown",
   "id": "2587b6a2-5efd-418c-bb2f-ee25f23e28c1",
   "metadata": {},
   "source": [
    "#### Detection match"
   ]
  },
  {
   "cell_type": "code",
   "execution_count": 77,
   "id": "9d2692d5-f82a-4df0-bef0-74ccb8b9544b",
   "metadata": {},
   "outputs": [],
   "source": [
    "det_match = [evaluation.detection_match(output_test[model_name], pred_output_test[model_name]) for model_name in folder_name]"
   ]
  },
  {
   "cell_type": "code",
   "execution_count": null,
   "id": "adc87dbf-6622-44bb-99c4-3cd4a2b2d444",
   "metadata": {},
   "outputs": [],
   "source": [
    "title = 'wp_det_match'\n",
    "filename = base_dir+'Figures/'+title+'.png'\n",
    "print(filename)\n",
    "\n",
    "fig, ax = plt.subplots(figsize=(6, 5))\n",
    "ax.plot(dilation_threshold, det_match, 'o-')\n",
    "ax.set(xlabel='Event score threshold (a.u.)', ylabel='Detection match')\n",
    "#plt.show()\n",
    "fig.savefig(filename)"
   ]
  },
  {
   "cell_type": "markdown",
   "id": "37a44cd1-42fc-4821-b32c-f6514e34d399",
   "metadata": {},
   "source": [
    "### Mito + Drp1 channels as inputs"
   ]
  },
  {
   "cell_type": "code",
   "execution_count": null,
   "id": "40d7676c-5a62-41f1-8434-37586776b391",
   "metadata": {
    "colab": {
     "base_uri": "https://localhost:8080/",
     "height": 740
    },
    "id": "lxMLelekV8xh",
    "outputId": "d24c25ea-08f4-4a95-b467-f3be7088cb50"
   },
   "outputs": [],
   "source": [
    "#Inputs\n",
    "input_data = util.load_h5(data_path, 'Mito')\n",
    "input_data = np.stack((input_data, util.load_h5(data_path, 'Drp1')), axis=-1)\n",
    "print('Inputs'+':', input_data.shape)\n",
    "\n",
    "dilation_sigma = util.load_pkl(data_path, 'max_optimal_sigma')\n",
    "dilation_threshold = util.load_pkl(data_path, 'max_intensity_threshold')\n",
    "num_sigmas = dilation_sigma.shape[0]"
   ]
  },
  {
   "cell_type": "code",
   "execution_count": null,
   "id": "2ea1edb4-1ed0-46b9-b56e-a8423acc041c",
   "metadata": {},
   "outputs": [],
   "source": [
    "#Outputs\n",
    "folder_name = util.get_filename(model_path, 'multich_wp_f8')\n",
    "folder_name = [model_name for model_name in folder_name if np.all([tag not in model_name for tag in ['aug', 'temp']])]\n",
    "folder_name = [str(Path(folder).parts[-1]) for folder in folder_name]\n",
    "num_models = len(folder_name)\n",
    "\n",
    "model = util.load_model(model_path, ['model']*num_models, folder_name, as_type=dict)\n",
    "history = util.load_pkl(model_path, ['history']*num_models, folder_name, as_type=dict)\n",
    "frames_test = util.load_pkl(model_path, ['frames_test']*num_models, folder_name, as_type=dict)"
   ]
  },
  {
   "cell_type": "code",
   "execution_count": null,
   "id": "2dca8f87-6c71-4583-9c40-ebe88a88ea26",
   "metadata": {},
   "outputs": [],
   "source": [
    "input_test, output_test, pred_output_test = {}, {}, {}\n",
    "labels_test = {}\n",
    "\n",
    "for model_name, s, t in zip(folder_name, dilation_sigma, dilation_threshold):\n",
    "  print('\\nModel: %s'%model_name)\n",
    "  \n",
    "  #Inputs\n",
    "  input_test[model_name] = input_data[frames_test[model_name]]\n",
    "  \n",
    "  metadata = 's%.1f_t%.i'%(s, t)\n",
    "  #Outputs\n",
    "  output_data = util.load_h5(data_path, 'WatProc_'+metadata)\n",
    "  print('Outputs:', output_data.shape)\n",
    "  output_test[model_name] = output_data[frames_test[model_name]]\n",
    "  del output_data\n",
    "  \n",
    "  #Labels\n",
    "  labels = util.load_h5(data_path, 'proc_labels_'+metadata)\n",
    "  print('Labels:', labels.shape)\n",
    "  labels_test[model_name] = labels[frames_test[model_name]]\n",
    "  del labels\n",
    "  \n",
    "  pred_output_test[model_name] = evaluation.predict(input_test[model_name], model[model_name])\n",
    "\n",
    "del input_data"
   ]
  },
  {
   "cell_type": "markdown",
   "id": "7cef873c-265c-46c8-8ea2-9051782c216b",
   "metadata": {},
   "source": [
    "#### Threshold optimization"
   ]
  },
  {
   "cell_type": "code",
   "execution_count": null,
   "id": "56090918-be9c-4ef5-8b9d-a73544ad999c",
   "metadata": {},
   "outputs": [],
   "source": [
    "pred_threshold = np.linspace(0.05, 0.35, 10, endpoint=True)\n",
    "f1_score = {}\n",
    "optimal_pred_threshold = {}\n",
    "pred_labels_test = {}\n",
    "\n",
    "for model_name in model:\n",
    "  print(\"Processing %s\" %model_name)\n",
    "  f1_score[model_name] = evaluation.get_fbeta_curve(labels_test[model_name], pred_output_test[model_name], pred_threshold)\n",
    "  optimal_pred_threshold[model_name] = evaluation.get_optimal_threshold(pred_threshold, f1_score[model_name])\n",
    "  pred_labels_test[model_name] = evaluation.label(pred_output_test[model_name], threshold=optimal_pred_threshold[model_name])\n",
    "  print('\\n')\n",
    "  \n",
    "util.save_pkl(f1_score, model_path, 'multich_wp_f1_score')\n",
    "util.save_pkl(optimal_pred_threshold, model_path, 'multich_wp_optimal_pred_threshold')"
   ]
  },
  {
   "cell_type": "code",
   "execution_count": null,
   "id": "c1aa74bf-ff97-4f49-8b4e-a1a2890ac1f8",
   "metadata": {},
   "outputs": [],
   "source": [
    "cbar_ticks = np.arange(num_models)\n",
    "\n",
    "norm_bounds = -1, num_models-1\n",
    "norm = Normalize(*norm_bounds)\n",
    "cmap = plt.cm.ScalarMappable(cmap='Oranges', norm=norm)\n",
    "colors = cmap.get_cmap()(norm(cbar_ticks))\n",
    "\n",
    "fig, ax = plt.subplots(figsize=(10, 10))\n",
    "for model_name, thr, c in zip(model, dilation_threshold, colors):\n",
    "  ax.plot(pred_threshold, f1_score[model_name], 'o-', color=c, label=thr)\n",
    "\n",
    "ax.set(xlabel='Normalized event score threshold', ylabel='F1-score', ylim=(0, 1))\n",
    "ax.legend(title='Event score threshold\\nafter dilation', title_fontsize=20, ncol=2)\n",
    "plt.show()"
   ]
  },
  {
   "cell_type": "code",
   "execution_count": null,
   "id": "1a612c9d-f846-4eea-b745-e33a5b69ad31",
   "metadata": {},
   "outputs": [],
   "source": [
    "for model_name in folder_name:\n",
    "  mask = pred_output_test[model_name]>optimal_pred_threshold[model_name]\n",
    "  plotting.plot_outputs(input_test[model_name][:, :, :, 0], output_test[model_name], \n",
    "                        pred_output_test[model_name]*mask, frames_test[model_name], \n",
    "                        nb_examples=5, title=model_name, cmap=['gray', 'inferno'])\n",
    "  plt.show()\n",
    "  print('\\n')"
   ]
  },
  {
   "cell_type": "markdown",
   "id": "4932f615-7e16-4cc8-98b4-69c3276c66a7",
   "metadata": {},
   "source": [
    "#### Labels binary overlap"
   ]
  },
  {
   "cell_type": "code",
   "execution_count": null,
   "id": "8886d3df-90f3-4f64-b009-c57f239c756f",
   "metadata": {},
   "outputs": [],
   "source": [
    "fissionStats = {}\n",
    "for model_name in labels_test:\n",
    "  print('\\nModel name:', model_name)\n",
    "  fissionStats[model_name] = evaluation.fissionStatsStack(labels_test[model_name], pred_labels_test[model_name])"
   ]
  },
  {
   "cell_type": "code",
   "execution_count": 87,
   "id": "21979c58-d7eb-44d9-a864-6fcdb4becb97",
   "metadata": {},
   "outputs": [],
   "source": [
    "fissionStats = pd.DataFrame(fissionStats, index=['TP', 'FP', 'FN', 'TP_px', 'FP_px', 'FN_px']).T\n",
    "fissionStats['precision'] = fissionStats['TP']/(fissionStats['TP']+fissionStats['FP'])\n",
    "fissionStats['TPR'] = fissionStats['TP']/(fissionStats['TP']+fissionStats['FN'])\n",
    "fissionStats['FDR'] = fissionStats['FP']/(fissionStats['TP']+fissionStats['FP'])\n",
    "\n",
    "fissionStats['precision_px'] = fissionStats['TP_px']/(fissionStats['TP_px']+fissionStats['FP_px'])\n",
    "fissionStats['TPR_px'] = fissionStats['TP_px']/(fissionStats['TP_px']+fissionStats['FN_px'])\n",
    "fissionStats['FDR_px'] = fissionStats['FP_px']/(fissionStats['TP_px']+fissionStats['FP_px'])\n",
    "\n",
    "fissionStats = fissionStats.T"
   ]
  },
  {
   "cell_type": "code",
   "execution_count": null,
   "id": "888c1b15-090a-4bbc-a2b2-5851d88502c9",
   "metadata": {},
   "outputs": [],
   "source": [
    "title = 'multich_wp_fissionStats'\n",
    "filename = base_dir+'Figures/'+title+'.png'\n",
    "print(filename)\n",
    "\n",
    "fig = plt.figure(figsize=(7*2, 7))\n",
    "gs = fig.add_gridspec(1, 3, width_ratios=[1, 1, 0.05])\n",
    "\n",
    "axes = []\n",
    "axes += [fig.add_subplot(gs[0])]\n",
    "axes += [fig.add_subplot(gs[1])]\n",
    "cax = fig.add_subplot(gs[2])\n",
    "\n",
    "plotting.plot_metrics_comparison(fissionStats.loc[['precision', 'TPR', 'FDR']], xscale=2, color=colors, ax=axes[0], ylim=[0, 1], legend=False)  \n",
    "plotting.plot_metrics_comparison(fissionStats.loc[['precision_px', 'TPR_px', 'FDR_px']], xscale=2, color=colors, ax=axes[1], ylim=[0, 1], legend=False)\n",
    "axes[1].set_yticklabels([])\n",
    "\n",
    "for ax, title in zip(axes, ['Object level', 'Pixel level']):\n",
    "  ax.set_title(title, size=22)\n",
    "  ax.tick_params(axis='x')\n",
    "  ax.tick_params(axis='y')\n",
    "\n",
    "cbar = fig.colorbar(cmap, cax=cax, ticks=cbar_ticks)\n",
    "cbar.set_ticklabels(dilation_threshold)\n",
    "cbar.set_label('Event score threshold\\nafter dilation (a.u.)', labelpad=15)\n",
    "\n",
    "\n",
    "plt.tight_layout(pad=0)\n",
    "fig.subplots_adjust(wspace=0.05, top=0.84, right=0.98)\n",
    "\n",
    "#plt.show()\n",
    "fig.savefig(filename)"
   ]
  },
  {
   "cell_type": "markdown",
   "id": "87f57705-f5b7-4f12-b4b5-78f2800deae0",
   "metadata": {},
   "source": [
    "#### Detection match"
   ]
  },
  {
   "cell_type": "code",
   "execution_count": 90,
   "id": "68d55225-84a6-4673-a90a-0ed2b7d9f544",
   "metadata": {},
   "outputs": [],
   "source": [
    "det_match = [evaluation.detection_match(output_test[model_name], pred_output_test[model_name]) for model_name in folder_name]"
   ]
  },
  {
   "cell_type": "code",
   "execution_count": null,
   "id": "91097c71-11da-49e1-99de-a07662d52a80",
   "metadata": {},
   "outputs": [],
   "source": [
    "title = 'multich_wp_det_match'\n",
    "filename = base_dir+'Figures/'+title+'.png'\n",
    "print(filename)\n",
    "\n",
    "fig, ax = plt.subplots(figsize=(6, 5))\n",
    "ax.plot(dilation_threshold, det_match, 'o-')\n",
    "ax.set(xlabel='Event score threshold (a.u.)', ylabel='Detection match')\n",
    "#plt.show()\n",
    "fig.savefig(filename)"
   ]
  },
  {
   "cell_type": "markdown",
   "id": "96df07b0-5c3c-4db8-95ef-4ce3a7e05cf5",
   "metadata": {},
   "source": [
    "## Spatiotemporal filtered Mito & WatProc"
   ]
  },
  {
   "cell_type": "markdown",
   "id": "364fa3a5-7ca1-4080-aac7-1c881978a2f2",
   "metadata": {},
   "source": [
    "### Only mito channel as input"
   ]
  },
  {
   "cell_type": "code",
   "execution_count": null,
   "id": "dd4df47a-a250-4c30-84f0-2f42c5e3fb08",
   "metadata": {
    "colab": {
     "base_uri": "https://localhost:8080/",
     "height": 740
    },
    "id": "lxMLelekV8xh",
    "outputId": "d24c25ea-08f4-4a95-b467-f3be7088cb50"
   },
   "outputs": [],
   "source": [
    "#Inputs\n",
    "input_data = util.load_h5(data_path, 'Mito')\n",
    "print('Inputs'+':', input_data.shape)\n",
    "\n",
    "dilation_sigma = util.load_pkl(data_path, 'max_optimal_sigma')\n",
    "dilation_threshold = util.load_pkl(data_path, 'max_intensity_threshold')\n",
    "num_sigmas = dilation_sigma.shape[0]"
   ]
  },
  {
   "cell_type": "code",
   "execution_count": null,
   "id": "c280c9dc-3de5-415b-bf02-1e95029b4918",
   "metadata": {},
   "outputs": [],
   "source": [
    "#Outputs\n",
    "folder_name = util.get_filename(model_path, 'spatemp_wp')\n",
    "folder_name = [str(Path(folder).parts[-1]) for folder in folder_name]\n",
    "folder_name = [folder for folder in folder_name if 'multich' not in folder]\n",
    "num_models = len(folder_name)\n",
    "\n",
    "model = util.load_model(model_path, ['model']*num_models, folder_name, as_type=dict)\n",
    "history = util.load_pkl(model_path, ['history']*num_models, folder_name, as_type=dict)\n",
    "frames_test = util.load_pkl(model_path, ['frames_test']*num_models, folder_name, as_type=dict)"
   ]
  },
  {
   "cell_type": "code",
   "execution_count": null,
   "id": "279b0911-7fd7-4a66-9b4d-1fe5d81d06c6",
   "metadata": {},
   "outputs": [],
   "source": [
    "input_test, output_test, pred_output_test = {}, {}, {}\n",
    "labels_test = {}\n",
    "\n",
    "for model_name in folder_name:\n",
    "  print('\\nModel: %s'%model_name)\n",
    "  metadata = model_name.split('b16_')[-1]\n",
    "  output_data_name = 'spatemp_WatProc_'+metadata\n",
    "  labels_name = 'spatemp_proc_labels_'+metadata\n",
    "  \n",
    "  #Outputs\n",
    "  output_data = util.load_h5(data_path, output_data_name)\n",
    "  print('Outputs:', output_data.shape)\n",
    "  output_test[model_name] = output_data[frames_test[model_name]]\n",
    "  del output_data\n",
    "\n",
    "  labels = util.load_h5(data_path, labels_name)\n",
    "  print('Labels:', labels.shape)\n",
    "  labels_test[model_name] = labels[frames_test[model_name]]\n",
    "  del labels\n",
    "  \n",
    "  input_test[model_name] = input_data[frames_test[model_name]]\n",
    "  pred_output_test[model_name] = evaluation.predict(input_test[model_name], model[model_name])\n",
    "  \n",
    "del input_data"
   ]
  },
  {
   "cell_type": "markdown",
   "id": "740330b0-9d3f-4c9d-803a-86a6a5429378",
   "metadata": {},
   "source": [
    "#### Threshold optimization"
   ]
  },
  {
   "cell_type": "code",
   "execution_count": null,
   "id": "07d13a1c-69f4-44cf-88b7-635cd2db3f6c",
   "metadata": {},
   "outputs": [],
   "source": [
    "pred_threshold = util.load_pkl(model_path, 'pred_threshold')\n",
    "f1_score = {}\n",
    "optimal_pred_threshold = {}\n",
    "pred_labels_test = {}\n",
    "\n",
    "for model_name in model:\n",
    "  print(\"Processing %s\" %model_name)\n",
    "  f1_score[model_name] = evaluation.get_fbeta_curve(labels_test[model_name], pred_output_test[model_name], pred_threshold)\n",
    "  optimal_pred_threshold[model_name] = evaluation.get_optimal_threshold(pred_threshold, f1_score[model_name])\n",
    "  pred_labels_test[model_name] = evaluation.label(pred_output_test[model_name], threshold=optimal_pred_threshold[model_name])\n",
    "  print('\\n')\n",
    "  \n",
    "util.save_pkl(f1_score, model_path, 'spatemp_wp_f1_score')\n",
    "util.save_pkl(optimal_pred_threshold, model_path, 'spatemp_wp_optimal_pred_threshold')"
   ]
  },
  {
   "cell_type": "code",
   "execution_count": null,
   "id": "24ecf813-5bb2-40ac-be5a-21395bdc945c",
   "metadata": {},
   "outputs": [],
   "source": [
    "cbar_ticks = np.arange(num_models)\n",
    "\n",
    "norm_bounds = -1, num_models-1\n",
    "norm = Normalize(*norm_bounds)\n",
    "cmap = plt.cm.ScalarMappable(cmap='Oranges', norm=norm)\n",
    "colors = cmap.get_cmap()(norm(cbar_ticks))\n",
    "\n",
    "fig, ax = plt.subplots(figsize=(10, 10))\n",
    "for model_name, thr, c in zip(model, dilation_threshold, colors):\n",
    "  ax.plot(pred_threshold, f1_score[model_name], 'o-', color=c, label=thr)\n",
    "\n",
    "ax.set(xlabel='Normalized event score threshold', ylabel='F1-score', ylim=(0, 1))\n",
    "ax.legend(title='Event score threshold\\nafter dilation', title_fontsize=20, ncol=2)\n",
    "plt.show()"
   ]
  },
  {
   "cell_type": "code",
   "execution_count": null,
   "id": "5148c173-20ab-4ab9-9d44-64ca209e82ab",
   "metadata": {},
   "outputs": [],
   "source": [
    "for model_name in folder_name:\n",
    "  mask = pred_output_test[model_name]>optimal_pred_threshold[model_name]\n",
    "  plotting.plot_outputs(input_test[model_name], output_test[model_name], \n",
    "                        pred_output_test[model_name]*mask, frames_test[model_name], \n",
    "                        nb_examples=5, title=model_name, cmap=['gray', 'inferno'])\n",
    "  plt.show()\n",
    "  print('\\n')"
   ]
  },
  {
   "cell_type": "markdown",
   "id": "37463049-f46f-4195-9e54-a6d06151020c",
   "metadata": {},
   "source": [
    "#### Labels binary overlap"
   ]
  },
  {
   "cell_type": "code",
   "execution_count": null,
   "id": "fa9df41f-becb-4413-9199-0c54a0369e8e",
   "metadata": {},
   "outputs": [],
   "source": [
    "fissionStats = {}\n",
    "for model_name in labels_test:\n",
    "  print('\\nModel name:', model_name)\n",
    "  fissionStats[model_name] = evaluation.fissionStatsStack(labels_test[model_name], pred_labels_test[model_name])"
   ]
  },
  {
   "cell_type": "code",
   "execution_count": 100,
   "id": "373191fe-92e8-4f65-8fd4-fadd5e9484ef",
   "metadata": {},
   "outputs": [],
   "source": [
    "fissionStats = pd.DataFrame(fissionStats, index=['TP', 'FP', 'FN', 'TP_px', 'FP_px', 'FN_px']).T\n",
    "fissionStats['precision'] = fissionStats['TP']/(fissionStats['TP']+fissionStats['FP'])\n",
    "fissionStats['TPR'] = fissionStats['TP']/(fissionStats['TP']+fissionStats['FN'])\n",
    "fissionStats['FDR'] = fissionStats['FP']/(fissionStats['TP']+fissionStats['FP'])\n",
    "\n",
    "fissionStats['precision_px'] = fissionStats['TP_px']/(fissionStats['TP_px']+fissionStats['FP_px'])\n",
    "fissionStats['TPR_px'] = fissionStats['TP_px']/(fissionStats['TP_px']+fissionStats['FN_px'])\n",
    "fissionStats['FDR_px'] = fissionStats['FP_px']/(fissionStats['TP_px']+fissionStats['FP_px'])\n",
    "\n",
    "fissionStats = fissionStats.T"
   ]
  },
  {
   "cell_type": "code",
   "execution_count": null,
   "id": "33d98dd7-a427-4b16-8dfc-dd3755e6f8ce",
   "metadata": {},
   "outputs": [],
   "source": [
    "gaussian_threshold = np.array([int(model_name.split('_gt')[-1]) for model_name in model])\n",
    "title = 'spatemp_wp_fissionStats'\n",
    "filename = base_dir+'Figures/'+title+'.png'\n",
    "print(filename)\n",
    "\n",
    "fig = plt.figure(figsize=(7*2, 7))\n",
    "gs = fig.add_gridspec(1, 3, width_ratios=[1, 1, 0.05])\n",
    "\n",
    "axes = []\n",
    "axes += [fig.add_subplot(gs[0])]\n",
    "axes += [fig.add_subplot(gs[1])]\n",
    "cax = fig.add_subplot(gs[2])\n",
    "\n",
    "plotting.plot_metrics_comparison(fissionStats.loc[['precision', 'TPR', 'FDR']], xscale=2, color=colors, ax=axes[0], ylim=[0, 1], legend=False)  \n",
    "plotting.plot_metrics_comparison(fissionStats.loc[['precision_px', 'TPR_px', 'FDR_px']], xscale=2, color=colors, ax=axes[1], ylim=[0, 1], legend=False)\n",
    "axes[1].set_yticklabels([])\n",
    "\n",
    "for ax, title in zip(axes, ['Object level', 'Pixel level']):\n",
    "  ax.set_title(title, size=22)\n",
    "  ax.tick_params(axis='x')\n",
    "  ax.tick_params(axis='y')\n",
    "\n",
    "cbar = fig.colorbar(cmap, cax=cax, ticks=cbar_ticks)\n",
    "cbar.set_ticklabels(gaussian_threshold)\n",
    "cbar.set_label('Event score threshold (a.u.)', labelpad=15)\n",
    "\n",
    "\n",
    "plt.tight_layout(pad=0)\n",
    "fig.subplots_adjust(wspace=0.05, top=0.84, right=0.98)\n",
    "\n",
    "#plt.show()\n",
    "fig.savefig(filename)"
   ]
  },
  {
   "cell_type": "markdown",
   "id": "45e76b38-6c0d-4af2-8767-320401d4cfd3",
   "metadata": {},
   "source": [
    "#### Detection match"
   ]
  },
  {
   "cell_type": "code",
   "execution_count": 102,
   "id": "0db43f86-c3ec-4390-8225-feeff672e48e",
   "metadata": {},
   "outputs": [],
   "source": [
    "det_match = [evaluation.detection_match(output_test[model_name], pred_output_test[model_name]) for model_name in folder_name]"
   ]
  },
  {
   "cell_type": "code",
   "execution_count": null,
   "id": "90bc5054-2163-4d42-8abb-5658ded5075b",
   "metadata": {},
   "outputs": [],
   "source": [
    "title = 'spatemp_wp_det_match'\n",
    "filename = base_dir+'Figures/'+title+'.png'\n",
    "print(filename)\n",
    "\n",
    "fig, ax = plt.subplots(figsize=(6, 5))\n",
    "ax.plot(dilation_threshold, det_match, 'o-')\n",
    "ax.set(xlabel='Event score threshold (a.u.)', ylabel='Detection match')\n",
    "#plt.show()\n",
    "fig.savefig(filename)"
   ]
  },
  {
   "cell_type": "markdown",
   "id": "5ebd0c9b-4fb4-4317-bc79-d6681c937d24",
   "metadata": {},
   "source": [
    "### Mito + Drp1 channels as inputs"
   ]
  },
  {
   "cell_type": "code",
   "execution_count": null,
   "id": "ab71b1a8-8563-4543-8ef8-a8dc1cf32e92",
   "metadata": {},
   "outputs": [],
   "source": [
    "#Inputs\n",
    "input_data = util.load_h5(data_path, 'Mito')\n",
    "input_data = np.stack((input_data, util.load_h5(data_path, 'Drp1')), axis=-1)\n",
    "print('Inputs'+':', input_data.shape)\n",
    "\n",
    "dilation_sigma = util.load_pkl(data_path, 'max_optimal_sigma')\n",
    "dilation_threshold = util.load_pkl(data_path, 'max_intensity_threshold')\n",
    "num_sigmas = dilation_sigma.shape[0]"
   ]
  },
  {
   "cell_type": "code",
   "execution_count": null,
   "id": "38b71ca4-14e6-41cc-a687-24d2a6c320b7",
   "metadata": {},
   "outputs": [],
   "source": [
    "#Outputs\n",
    "folder_name = util.get_filename(model_path, 'multich_spatemp_wp_f8')\n",
    "folder_name = [str(Path(folder).parts[-1]) for folder in folder_name]\n",
    "num_models = len(folder_name)\n",
    "\n",
    "model = util.load_model(model_path, ['model']*num_models, folder_name, as_type=dict)\n",
    "history = util.load_pkl(model_path, ['history']*num_models, folder_name, as_type=dict)\n",
    "frames_test = util.load_pkl(model_path, ['frames_test']*num_models, folder_name, as_type=dict)"
   ]
  },
  {
   "cell_type": "code",
   "execution_count": null,
   "id": "676a94fb-2cf1-4dad-be7b-4deb4ced119d",
   "metadata": {},
   "outputs": [],
   "source": [
    "input_test, output_test, pred_output_test = {}, {}, {}\n",
    "labels_test = {}\n",
    "\n",
    "for model_name in folder_name:\n",
    "  print('\\nModel: %s'%model_name)\n",
    "  metadata = model_name.split('b16_')[-1]\n",
    "  output_data_name = 'spatemp_WatProc_'+metadata\n",
    "  labels_name = 'spatemp_proc_labels_'+metadata\n",
    "  \n",
    "  #Outputs\n",
    "  output_data = util.load_h5(data_path, output_data_name)\n",
    "  print('Outputs:', output_data.shape)\n",
    "  output_test[model_name] = output_data[frames_test[model_name]]\n",
    "  del output_data\n",
    "\n",
    "  labels = util.load_h5(data_path, labels_name)\n",
    "  print('Labels:', labels.shape)\n",
    "  labels_test[model_name] = labels[frames_test[model_name]]\n",
    "  del labels\n",
    "  \n",
    "  input_test[model_name] = input_data[frames_test[model_name]]\n",
    "  pred_output_test[model_name] = evaluation.predict(input_test[model_name], model[model_name])\n",
    "  \n",
    "del input_data"
   ]
  },
  {
   "cell_type": "markdown",
   "id": "82ff4467-8e00-4471-8ab2-82b5c0c6aa2e",
   "metadata": {},
   "source": [
    "#### Threshold optimization"
   ]
  },
  {
   "cell_type": "code",
   "execution_count": null,
   "id": "02746518-bd30-4f63-9d90-afe19aaf8b5d",
   "metadata": {},
   "outputs": [],
   "source": [
    "pred_threshold = util.load_pkl(model_path, 'pred_threshold')\n",
    "f1_score = {}\n",
    "optimal_pred_threshold = {}\n",
    "pred_labels_test = {}\n",
    "\n",
    "for model_name in model:\n",
    "  print(\"Processing %s\" %model_name)\n",
    "  f1_score[model_name] = evaluation.get_fbeta_curve(labels_test[model_name], pred_output_test[model_name], pred_threshold)\n",
    "  optimal_pred_threshold[model_name] = evaluation.get_optimal_threshold(pred_threshold, f1_score[model_name])\n",
    "  pred_labels_test[model_name] = evaluation.label(pred_output_test[model_name], threshold=optimal_pred_threshold[model_name])\n",
    "  print('\\n')\n",
    "  \n",
    "util.save_pkl(f1_score, model_path, 'multich_spatemp_f1_score')\n",
    "util.save_pkl(optimal_pred_threshold, model_path, 'multich_spatemp_optimal_pred_threshold')"
   ]
  },
  {
   "cell_type": "code",
   "execution_count": null,
   "id": "2275d4ad-227e-451d-87ca-6aa47ada141e",
   "metadata": {},
   "outputs": [],
   "source": [
    "cbar_ticks = np.arange(num_models)\n",
    "\n",
    "norm_bounds = -1, num_models-1\n",
    "norm = Normalize(*norm_bounds)\n",
    "cmap = plt.cm.ScalarMappable(cmap='Oranges', norm=norm)\n",
    "colors = cmap.get_cmap()(norm(cbar_ticks))\n",
    "\n",
    "fig, ax = plt.subplots(figsize=(10, 10))\n",
    "for model_name, thr, c in zip(model, dilation_threshold, colors):\n",
    "  ax.plot(pred_threshold, f1_score[model_name], 'o-', color=c, label=thr)\n",
    "\n",
    "ax.set(xlabel='Normalized event score threshold', ylabel='F1-score', ylim=(0, 1))\n",
    "ax.legend(title='Event score threshold\\nafter dilation', title_fontsize=20, ncol=2)\n",
    "plt.show()"
   ]
  },
  {
   "cell_type": "code",
   "execution_count": null,
   "id": "ab84c04c-7c36-499b-be68-f37e558e31a6",
   "metadata": {},
   "outputs": [],
   "source": [
    "for model_name in folder_name:\n",
    "  mask = pred_output_test[model_name]>optimal_pred_threshold[model_name]\n",
    "  plotting.plot_outputs(input_test[model_name][:, :, :, 0], output_test[model_name], \n",
    "                        pred_output_test[model_name]*mask, frames_test[model_name], \n",
    "                        nb_examples=5, title=model_name, cmap=['gray', 'inferno'])\n",
    "  plt.show()\n",
    "  print('\\n')"
   ]
  },
  {
   "cell_type": "markdown",
   "id": "4352f2cf-d111-444e-9d7f-ab35b3271719",
   "metadata": {},
   "source": [
    "#### Labels binary overlap"
   ]
  },
  {
   "cell_type": "code",
   "execution_count": null,
   "id": "db2cc015-91c2-4a95-b73f-90584f306db3",
   "metadata": {},
   "outputs": [],
   "source": [
    "fissionStats = {}\n",
    "for model_name in labels_test:\n",
    "  print('\\nModel name:', model_name)\n",
    "  fissionStats[model_name] = evaluation.fissionStatsStack(labels_test[model_name], pred_labels_test[model_name])"
   ]
  },
  {
   "cell_type": "code",
   "execution_count": 110,
   "id": "8c0c84a6-1e5e-4fe7-a7ec-6c3961e329e2",
   "metadata": {},
   "outputs": [],
   "source": [
    "fissionStats = pd.DataFrame(fissionStats, index=['TP', 'FP', 'FN', 'TP_px', 'FP_px', 'FN_px']).T\n",
    "fissionStats['precision'] = fissionStats['TP']/(fissionStats['TP']+fissionStats['FP'])\n",
    "fissionStats['TPR'] = fissionStats['TP']/(fissionStats['TP']+fissionStats['FN'])\n",
    "fissionStats['FDR'] = fissionStats['FP']/(fissionStats['TP']+fissionStats['FP'])\n",
    "\n",
    "fissionStats['precision_px'] = fissionStats['TP_px']/(fissionStats['TP_px']+fissionStats['FP_px'])\n",
    "fissionStats['TPR_px'] = fissionStats['TP_px']/(fissionStats['TP_px']+fissionStats['FN_px'])\n",
    "fissionStats['FDR_px'] = fissionStats['FP_px']/(fissionStats['TP_px']+fissionStats['FP_px'])\n",
    "\n",
    "fissionStats = fissionStats.T"
   ]
  },
  {
   "cell_type": "code",
   "execution_count": null,
   "id": "9d1dafe6-1ecc-4c79-8497-6e9622fb76d8",
   "metadata": {},
   "outputs": [],
   "source": [
    "gaussian_threshold = np.array([int(model_name.split('_gt')[-1]) for model_name in model])\n",
    "title = 'multich_spatemp_fissionStats'\n",
    "filename = base_dir+'Figures/'+title+'.png'\n",
    "print(filename)\n",
    "\n",
    "fig = plt.figure(figsize=(7*2, 7))\n",
    "gs = fig.add_gridspec(1, 3, width_ratios=[1, 1, 0.05])\n",
    "\n",
    "axes = []\n",
    "axes += [fig.add_subplot(gs[0])]\n",
    "axes += [fig.add_subplot(gs[1])]\n",
    "cax = fig.add_subplot(gs[2])\n",
    "\n",
    "plotting.plot_metrics_comparison(fissionStats.loc[['precision', 'TPR', 'FDR']], xscale=2, color=colors, ax=axes[0], ylim=[0, 1], legend=False)  \n",
    "plotting.plot_metrics_comparison(fissionStats.loc[['precision_px', 'TPR_px', 'FDR_px']], xscale=2, color=colors, ax=axes[1], ylim=[0, 1], legend=False)\n",
    "axes[1].set_yticklabels([])\n",
    "\n",
    "for ax, title in zip(axes, ['Object level', 'Pixel level']):\n",
    "  ax.set_title(title, size=22)\n",
    "  ax.tick_params(axis='x')\n",
    "  ax.tick_params(axis='y')\n",
    "\n",
    "cbar = fig.colorbar(cmap, cax=cax, ticks=cbar_ticks)\n",
    "cbar.set_ticklabels(gaussian_threshold)\n",
    "cbar.set_label('Event score threshold (a.u.)', labelpad=15)\n",
    "\n",
    "\n",
    "plt.tight_layout(pad=0)\n",
    "fig.subplots_adjust(wspace=0.05, top=0.84, right=0.98)\n",
    "\n",
    "#plt.show()\n",
    "fig.savefig(filename)"
   ]
  },
  {
   "cell_type": "markdown",
   "id": "789032b8-d832-4254-bf42-0485a4f496ac",
   "metadata": {},
   "source": [
    "#### Detection match"
   ]
  },
  {
   "cell_type": "code",
   "execution_count": 112,
   "id": "870fc29d-10bb-49a9-a136-1c1aea100b53",
   "metadata": {},
   "outputs": [],
   "source": [
    "det_match = [evaluation.detection_match(output_test[model_name], pred_output_test[model_name]) for model_name in folder_name]"
   ]
  },
  {
   "cell_type": "code",
   "execution_count": null,
   "id": "07df3da9-0186-4b21-b300-8799d95b8f91",
   "metadata": {},
   "outputs": [],
   "source": [
    "title = 'multich_spatemp_wp_det_match'\n",
    "filename = base_dir+'Figures/'+title+'.png'\n",
    "print(filename)\n",
    "\n",
    "fig, ax = plt.subplots(figsize=(6, 5))\n",
    "ax.plot(dilation_threshold, det_match, 'o-')\n",
    "ax.set(xlabel='Event score threshold (a.u.)', ylabel='Detection match')\n",
    "#plt.show()\n",
    "fig.savefig(filename)"
   ]
  }
 ],
 "metadata": {
  "kernelspec": {
   "display_name": "mitosplit",
   "language": "python",
   "name": "python3"
  },
  "language_info": {
   "codemirror_mode": {
    "name": "ipython",
    "version": 3
   },
   "file_extension": ".py",
   "mimetype": "text/x-python",
   "name": "python",
   "nbconvert_exporter": "python",
   "pygments_lexer": "ipython3",
   "version": "3.12.8"
  },
  "toc-autonumbering": false,
  "toc-showtags": false
 },
 "nbformat": 4,
 "nbformat_minor": 5
}
