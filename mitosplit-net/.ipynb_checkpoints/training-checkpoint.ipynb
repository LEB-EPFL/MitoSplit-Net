{
 "cells": [
  {
   "cell_type": "markdown",
   "metadata": {},
   "source": [
    "# Create and train MitoSplit-Net model"
   ]
  },
  {
   "cell_type": "markdown",
   "metadata": {
    "id": "0mIcpL6pLPvL"
   },
   "source": [
    "## Import required Python libraries\n",
    "\n"
   ]
  },
  {
   "cell_type": "code",
   "execution_count": 10,
   "metadata": {
    "id": "jaV4mHBXVj2x"
   },
   "outputs": [],
   "source": [
    "import util\n",
    "import plotting\n",
    "import training\n",
    "\n",
    "import numpy as np\n",
    "import matplotlib.pyplot as plt\n",
    "plt.rc('xtick', labelsize=18)\n",
    "plt.rc('ytick', labelsize=18)\n",
    "plt.rc('axes', labelsize=20)\n",
    "plt.rc('legend', fontsize=18)\n",
    "from tqdm import tqdm\n",
    "\n",
    "import tensorflow as tf"
   ]
  },
  {
   "cell_type": "code",
   "execution_count": 11,
   "metadata": {},
   "outputs": [
    {
     "name": "stdout",
     "output_type": "stream",
     "text": [
      "PhysicalDevice(name='/physical_device:GPU:0', device_type='GPU')\n"
     ]
    }
   ],
   "source": [
    "#Define GPU device where the code will run on\n",
    "gpu = tf.config.list_physical_devices('GPU')[0]\n",
    "print(gpu)\n",
    "tf.config.experimental.set_memory_growth(gpu, True)\n",
    "gpu = tf.device('GPU:0/')"
   ]
  },
  {
   "cell_type": "markdown",
   "metadata": {
    "id": "BVMwTVUOV1KY"
   },
   "source": [
    "## Import and reshape data "
   ]
  },
  {
   "cell_type": "code",
   "execution_count": 12,
   "metadata": {
    "colab": {
     "base_uri": "https://localhost:8080/",
     "height": 740
    },
    "id": "lxMLelekV8xh",
    "outputId": "d24c25ea-08f4-4a95-b467-f3be7088cb50"
   },
   "outputs": [
    {
     "name": "stdout",
     "output_type": "stream",
     "text": [
      "\n",
      "Loading H:/Santi/Data/MitoProc.h5\n",
      "Converting to array\n",
      "Inputs: (37000, 128, 128)\n",
      "\n",
      "Loading H:/Santi/Data/Proc.h5\n",
      "Converting to array\n",
      "Outputs: (37000, 128, 128)\n"
     ]
    }
   ],
   "source": [
    "base_dir = 'H:/Santi/'\n",
    "data_path = base_dir+'Data/' \n",
    "\n",
    "#Inputs\n",
    "input_data = util.load_h5(data_path, 'MitoProc')\n",
    "print('Inputs'+':', input_data.shape)\n",
    "\n",
    "#Outputs\n",
    "output_data = util.load_h5(data_path, 'Proc')\n",
    "print('Outputs:', output_data.shape)"
   ]
  },
  {
   "cell_type": "markdown",
   "metadata": {
    "id": "Rkaaw6D6LjLU"
   },
   "source": [
    "## Create model, split dataset and train"
   ]
  },
  {
   "cell_type": "markdown",
   "metadata": {},
   "source": [
    "#### No preprocessing, different batch sizes"
   ]
  },
  {
   "cell_type": "code",
   "execution_count": null,
   "metadata": {},
   "outputs": [],
   "source": [
    "with gpu:\n",
    "  nb_filters = 8\n",
    "  firstConvSize = 9\n",
    "  batch_size = [8, 16, 32, 256]\n",
    "  model, history, frames_test = {}, {}, {}\n",
    "  \n",
    "  for b in batch_size:\n",
    "    model_name = 'ref_f%i_c%i_b%i'%(nb_filters, firstConvSize, b)\n",
    "    print('Model:', model_name)\n",
    "    model[model_name] = training.create_model(nb_filters, firstConvSize)\n",
    "    history[model_name], frames_test[model_name] = training.train_model(model[model_name], input_data, output_data, batch_size=b) "
   ]
  },
  {
   "cell_type": "code",
   "execution_count": null,
   "metadata": {},
   "outputs": [],
   "source": [
    "model_path = base_dir + 'Models/'\n",
    "folder_name = list(model.keys())\n",
    "\n",
    "util.save_model(model, model_path, ['model']*len(model), folder_name)\n",
    "util.save_pkl(history, model_path, ['history']*len(model), folder_name)\n",
    "util.save_pkl(frames_test, model_path, ['frames_test']*len(model), folder_name)"
   ]
  },
  {
   "cell_type": "markdown",
   "metadata": {},
   "source": [
    "#### MitoProc, different batch sizes"
   ]
  },
  {
   "cell_type": "code",
   "execution_count": 14,
   "metadata": {},
   "outputs": [
    {
     "name": "stdout",
     "output_type": "stream",
     "text": [
      "Model: mp_f8_c9_b16\n",
      "* Start Encoder Section *\n",
      "* Start Center Section *\n",
      "* Start Decoder Section *\n",
      "Epoch 1/20\n",
      "1480/1480 - 29s - loss: -1.6284e-01 - binary_accuracy: 0.9651 - val_loss: -3.0623e-01 - val_binary_accuracy: 0.9890\n",
      "Epoch 2/20\n",
      "1480/1480 - 29s - loss: -4.6529e-01 - binary_accuracy: 0.9811 - val_loss: -4.8983e-01 - val_binary_accuracy: 0.9876\n",
      "Epoch 3/20\n",
      "1480/1480 - 29s - loss: -5.4813e-01 - binary_accuracy: 0.9843 - val_loss: -5.3784e-01 - val_binary_accuracy: 0.9892\n",
      "Epoch 4/20\n",
      "1480/1480 - 29s - loss: -5.9006e-01 - binary_accuracy: 0.9863 - val_loss: -5.5087e-01 - val_binary_accuracy: 0.9876\n",
      "Epoch 5/20\n",
      "1480/1480 - 29s - loss: -6.1735e-01 - binary_accuracy: 0.9877 - val_loss: -6.0080e-01 - val_binary_accuracy: 0.9863\n",
      "Epoch 6/20\n",
      "1480/1480 - 29s - loss: -6.3068e-01 - binary_accuracy: 0.9881 - val_loss: -6.1027e-01 - val_binary_accuracy: 0.9891\n",
      "Epoch 7/20\n",
      "1480/1480 - 29s - loss: -6.5422e-01 - binary_accuracy: 0.9892 - val_loss: -6.3330e-01 - val_binary_accuracy: 0.9882\n",
      "Epoch 8/20\n",
      "1480/1480 - 29s - loss: -6.6778e-01 - binary_accuracy: 0.9898 - val_loss: -6.2490e-01 - val_binary_accuracy: 0.9913\n",
      "Epoch 9/20\n",
      "1480/1480 - 29s - loss: -6.7198e-01 - binary_accuracy: 0.9901 - val_loss: -6.5645e-01 - val_binary_accuracy: 0.9900\n",
      "Epoch 10/20\n",
      "1480/1480 - 29s - loss: -6.8341e-01 - binary_accuracy: 0.9905 - val_loss: -6.7000e-01 - val_binary_accuracy: 0.9910\n",
      "Epoch 11/20\n",
      "1480/1480 - 29s - loss: -6.8898e-01 - binary_accuracy: 0.9907 - val_loss: -6.6060e-01 - val_binary_accuracy: 0.9906\n",
      "Epoch 12/20\n",
      "1480/1480 - 29s - loss: -6.9632e-01 - binary_accuracy: 0.9911 - val_loss: -6.5203e-01 - val_binary_accuracy: 0.9924\n",
      "Epoch 13/20\n",
      "1480/1480 - 29s - loss: -6.9992e-01 - binary_accuracy: 0.9913 - val_loss: -6.4710e-01 - val_binary_accuracy: 0.9931\n",
      "Epoch 14/20\n",
      "1480/1480 - 29s - loss: -7.0795e-01 - binary_accuracy: 0.9916 - val_loss: -6.5865e-01 - val_binary_accuracy: 0.9939\n",
      "Epoch 15/20\n",
      "1480/1480 - 29s - loss: -7.1126e-01 - binary_accuracy: 0.9918 - val_loss: -6.4782e-01 - val_binary_accuracy: 0.9924\n",
      "Epoch 16/20\n",
      "1480/1480 - 29s - loss: -7.1499e-01 - binary_accuracy: 0.9918 - val_loss: -6.6911e-01 - val_binary_accuracy: 0.9926\n",
      "Epoch 17/20\n",
      "1480/1480 - 29s - loss: -7.1762e-01 - binary_accuracy: 0.9920 - val_loss: -6.8208e-01 - val_binary_accuracy: 0.9901\n",
      "Epoch 18/20\n",
      "1480/1480 - 29s - loss: -7.2185e-01 - binary_accuracy: 0.9921 - val_loss: -6.9786e-01 - val_binary_accuracy: 0.9926\n",
      "Epoch 19/20\n",
      "1480/1480 - 29s - loss: -7.2646e-01 - binary_accuracy: 0.9923 - val_loss: -6.7990e-01 - val_binary_accuracy: 0.9931\n",
      "Epoch 20/20\n",
      "1480/1480 - 29s - loss: -7.3083e-01 - binary_accuracy: 0.9924 - val_loss: -7.0461e-01 - val_binary_accuracy: 0.9931\n"
     ]
    }
   ],
   "source": [
    "with gpu:\n",
    "  nb_filters = 8\n",
    "  firstConvSize = 9\n",
    "  batch_size = [8, 16, 32, 256]\n",
    "    \n",
    "  model_name = 'mp_f%i_c%i_b%i'%(nb_filters, firstConvSize, batch_size)\n",
    "  print('Model:', model_name)\n",
    "  model = training.create_model(nb_filters, firstConvSize)\n",
    "  history, frames_test = training.train_model(model, input_data, output_data, batch_size=batch_size) "
   ]
  },
  {
   "cell_type": "code",
   "execution_count": 15,
   "metadata": {},
   "outputs": [
    {
     "name": "stdout",
     "output_type": "stream",
     "text": [
      "\n",
      "Saving H:/Santi/Models/mp_f8_c9_b16history\n",
      "Done.\n",
      "\n",
      "Saving H:/Santi/Models/mp_f8_c9_b16frames_test\n",
      "Done.\n"
     ]
    }
   ],
   "source": [
    "model_path = base_dir + 'Models/'\n",
    "\n",
    "util.save_model(model, model_path, 'model', model_name)\n",
    "util.save_pkl(history, model_path, 'history', model_name)\n",
    "util.save_pkl(frames_test, model_path, 'frames_test', model_name)"
   ]
  }
 ],
 "metadata": {
  "accelerator": "GPU",
  "colab": {
   "collapsed_sections": [],
   "name": "20201014_Mito2Drp1",
   "provenance": [],
   "toc_visible": true
  },
  "kernelspec": {
   "display_name": "Python 3",
   "language": "python",
   "name": "python3"
  },
  "language_info": {
   "codemirror_mode": {
    "name": "ipython",
    "version": 3
   },
   "file_extension": ".py",
   "mimetype": "text/x-python",
   "name": "python",
   "nbconvert_exporter": "python",
   "pygments_lexer": "ipython3",
   "version": "3.8.10"
  }
 },
 "nbformat": 4,
 "nbformat_minor": 4
}
